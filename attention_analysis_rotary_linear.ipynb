{
 "cells": [
  {
   "cell_type": "code",
   "execution_count": 13,
   "metadata": {},
   "outputs": [],
   "source": [
    "import numpy as np\n",
    "import torch\n",
    "from transformers import AutoModel, AutoTokenizer\n",
    "import pandas as pd"
   ]
  },
  {
   "cell_type": "code",
   "execution_count": 14,
   "metadata": {},
   "outputs": [
    {
     "name": "stderr",
     "output_type": "stream",
     "text": [
      "/home/ubuntu/miniconda3/envs/chem/lib/python3.11/site-packages/huggingface_hub/file_download.py:1132: FutureWarning: `resume_download` is deprecated and will be removed in version 1.0.0. Downloads always resume when possible. If you want to force a new download, use `force_download=True`.\n",
      "  warnings.warn(\n"
     ]
    }
   ],
   "source": [
    "model = AutoModel.from_pretrained(\"ibm/MoLFormer-XL-both-10pct\", deterministic_eval=True, resume_download=True, trust_remote_code=True)\n",
    "tokenizer = AutoTokenizer.from_pretrained(\"ibm/MoLFormer-XL-both-10pct\", trust_remote_code=True ,resume_download=True)"
   ]
  },
  {
   "cell_type": "code",
   "execution_count": 17,
   "metadata": {},
   "outputs": [],
   "source": [
    "train_hi = pd.read_csv('~/data/splits/hi/train.tsv', sep='\\t')\n",
    "valid_hi = pd.read_csv('~/data/splits/hi/valid.tsv', sep='\\t')\n",
    "train = pd.read_csv('~/data/train.tsv', sep='\\t')\n",
    "test = pd.read_csv('~/data/test.tsv', sep='\\t')\n",
    "train_internal_external = pd.read_csv('~/data/internal_external.tsv', sep='\\t')"
   ]
  },
  {
   "cell_type": "code",
   "execution_count": 18,
   "metadata": {},
   "outputs": [
    {
     "name": "stdout",
     "output_type": "stream",
     "text": [
      "['<bos>', 'C', 'C', 'N', 'c', '1', 'c', 'c', 'n', 'c', '(', 'N', '(', 'C', ')', 'C', 'c', '2', 'n', 'c', '3', 'c', 'c', 'c', 'c', 'c', '3', 'n', '2', 'C', ')', 'n', '1', '<eos>', '<pad>', '<pad>', '<pad>', '<pad>', '<pad>', '<pad>', '<pad>']\n"
     ]
    }
   ],
   "source": [
    "enc = tokenizer(train.iloc[:3]['smiles'].tolist(), padding=True, return_tensors=\"pt\")['input_ids'][0]\n",
    "print(tokenizer.convert_ids_to_tokens(enc))"
   ]
  },
  {
   "cell_type": "code",
   "execution_count": 24,
   "metadata": {},
   "outputs": [
    {
     "data": {
      "text/plain": [
       "2"
      ]
     },
     "execution_count": 24,
     "metadata": {},
     "output_type": "execute_result"
    }
   ],
   "source": [
    "tokenizer.pad_token_id"
   ]
  },
  {
   "cell_type": "code",
   "execution_count": 19,
   "metadata": {},
   "outputs": [],
   "source": [
    "BATCH_SIZE = 64\n",
    "\n",
    "def infer(model, smiles):\n",
    "    all_embeddings = []\n",
    "\n",
    "    for i in range(0, len(smiles), BATCH_SIZE):\n",
    "        batch = smiles[i:i+BATCH_SIZE]\n",
    "        inputs = tokenizer(batch, padding=True, return_tensors=\"pt\")\n",
    "        inputs = {k: v.to(model.device) for k, v in inputs.items()}\n",
    "        with torch.no_grad():\n",
    "            attention_mask = inputs['attention_mask']\n",
    "            outputs = model(**inputs)\n",
    "            embeddings = outputs['last_hidden_state']\n",
    "            embeddings = (embeddings * attention_mask.unsqueeze(-1)).sum(1) / attention_mask.sum(-1).unsqueeze(-1)\n",
    "            all_embeddings.append(embeddings.cpu().numpy())\n",
    "    \n",
    "    return np.concatenate(all_embeddings)"
   ]
  },
  {
   "cell_type": "code",
   "execution_count": 20,
   "metadata": {},
   "outputs": [],
   "source": [
    "model.eval()\n",
    "model = model.to(\"cuda\")"
   ]
  },
  {
   "cell_type": "code",
   "execution_count": 21,
   "metadata": {},
   "outputs": [],
   "source": [
    "train_hi_embeddings = infer(model, train_hi['smiles'].tolist())\n",
    "valid_hi_embeddings = infer(model, valid_hi['smiles'].tolist())\n",
    "train_embeddings = infer(model, train['smiles'].tolist())\n",
    "test_embeddings = infer(model, test['smiles'].tolist())\n",
    "train_internal_external_embeddings = infer(model, train_internal_external['smiles'].tolist())"
   ]
  },
  {
   "cell_type": "code",
   "execution_count": 22,
   "metadata": {},
   "outputs": [
    {
     "data": {
      "text/plain": [
       "((1267, 768), (308, 768), (1578, 768), (400, 768), (10400, 768))"
      ]
     },
     "execution_count": 22,
     "metadata": {},
     "output_type": "execute_result"
    }
   ],
   "source": [
    "train_hi_embeddings.shape, valid_hi_embeddings.shape, train_embeddings.shape, test_embeddings.shape, train_internal_external_embeddings.shape"
   ]
  },
  {
   "cell_type": "code",
   "execution_count": 23,
   "metadata": {},
   "outputs": [],
   "source": [
    "np.save('/home/ubuntu/data/splits/hi/train_molformer_xl_both_10pct_embeds.npy', train_hi_embeddings)\n",
    "np.save('/home/ubuntu/data/splits/hi/valid_molformer_xl_both_10pct_embeds.npy', valid_hi_embeddings)\n",
    "np.save('/home/ubuntu/data/train_molformer_xl_both_10pct_embeds.npy', train_embeddings)\n",
    "np.save('/home/ubuntu/data/test_molformer_xl_both_10pct_embeds.npy', test_embeddings)\n",
    "np.save('/home/ubuntu/data/internal_external_molformer_xl_both_10pct_embeds.npy', train_internal_external_embeddings)"
   ]
  }
 ],
 "metadata": {
  "kernelspec": {
   "display_name": "Python 3 (ipykernel)",
   "language": "python",
   "name": "python3"
  },
  "language_info": {
   "codemirror_mode": {
    "name": "ipython",
    "version": 3
   },
   "file_extension": ".py",
   "mimetype": "text/x-python",
   "name": "python",
   "nbconvert_exporter": "python",
   "pygments_lexer": "ipython3",
   "version": "3.11.9"
  }
 },
 "nbformat": 4,
 "nbformat_minor": 4
}
