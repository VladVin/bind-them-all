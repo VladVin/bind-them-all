{
 "cells": [
  {
   "cell_type": "code",
   "execution_count": 1,
   "metadata": {},
   "outputs": [
    {
     "name": "stderr",
     "output_type": "stream",
     "text": [
      "[17:48:00] Initializing Normalizer\n"
     ]
    }
   ],
   "source": [
    "import copy\n",
    "import multiprocessing as mp\n",
    "from pathlib import Path\n",
    "import random\n",
    "import sys\n",
    "from typing import Optional\n",
    "\n",
    "import datamol as dm\n",
    "import lohi_splitter as lohi\n",
    "import numpy as np\n",
    "import matplotlib.pyplot as plt\n",
    "import pandas as pd\n",
    "import polaris as po\n",
    "from rdkit import Chem\n",
    "from rdkit.Chem import AllChem\n",
    "from rdkit.Chem.Scaffolds import MurckoScaffold\n",
    "from rdkit import RDLogger\n",
    "import seaborn as sns\n",
    "from splito._scaffold_split import get_scaffold\n",
    "from sklearn.metrics import r2_score\n",
    "from tqdm import tqdm\n",
    "import torch\n",
    "from torch import nn\n",
    "from torch.nn import functional as F\n",
    "from torch.utils.data import Dataset, DataLoader\n",
    "from transformers import AutoModel, AutoTokenizer\n",
    "\n",
    "sys.path.append('../src')\n",
    "from utils import ECFP_from_smiles, tanimoto_similarity, standardize_smiles"
   ]
  },
  {
   "cell_type": "code",
   "execution_count": 2,
   "metadata": {},
   "outputs": [],
   "source": [
    "torch.manual_seed(0)\n",
    "np.random.seed(0)\n",
    "random.seed(0)\n",
    "if torch.cuda.is_available():\n",
    "    torch.cuda.manual_seed(0)\n",
    "    torch.cuda.manual_seed_all(0)\n",
    "    torch.backends.cudnn.deterministic = True\n",
    "    torch.backends.cudnn.benchmark = False"
   ]
  },
  {
   "cell_type": "code",
   "execution_count": 3,
   "metadata": {},
   "outputs": [
    {
     "name": "stderr",
     "output_type": "stream",
     "text": [
      "\u001b[32m2024-06-21 17:48:01.984\u001b[0m | \u001b[1mINFO    \u001b[0m | \u001b[36mpolaris._artifact\u001b[0m:\u001b[36m_validate_version\u001b[0m:\u001b[36m66\u001b[0m - \u001b[1mThe version of Polaris that was used to create the artifact (0.0.0) is different from the currently installed version of Polaris (dev).\u001b[0m\n",
      "\u001b[32m2024-06-21 17:48:01.994\u001b[0m | \u001b[1mINFO    \u001b[0m | \u001b[36mpolaris._artifact\u001b[0m:\u001b[36m_validate_version\u001b[0m:\u001b[36m66\u001b[0m - \u001b[1mThe version of Polaris that was used to create the artifact (0.0.0) is different from the currently installed version of Polaris (dev).\u001b[0m\n"
     ]
    }
   ],
   "source": [
    "benchmark = po.load_benchmark(\"polaris/adme-fang-solu-1\")"
   ]
  },
  {
   "cell_type": "code",
   "execution_count": 4,
   "metadata": {},
   "outputs": [],
   "source": [
    "train_hi = pd.read_csv('~/data/splits/hi/train.tsv', sep='\\t')\n",
    "train_hi_with_external = pd.read_csv('~/data/splits/hi/train_with_external.tsv', sep='\\t')\n",
    "valid_hi = pd.read_csv('~/data/splits/hi/valid.tsv', sep='\\t')\n",
    "train = pd.read_csv('~/data/train.tsv', sep='\\t')\n",
    "test = pd.read_csv('~/data/test.tsv', sep='\\t')\n",
    "train_hi['S'] = 10**train_hi['logS']\n",
    "train_hi_with_external['S'] = 10**train_hi_with_external['logS']\n",
    "valid_hi['S'] = 10**valid_hi['logS']\n",
    "train['S'] = 10**train['logS']"
   ]
  },
  {
   "cell_type": "code",
   "execution_count": 5,
   "metadata": {},
   "outputs": [
    {
     "data": {
      "text/plain": [
       "(2927, 3)"
      ]
     },
     "execution_count": 5,
     "metadata": {},
     "output_type": "execute_result"
    }
   ],
   "source": [
    "train_hi_with_external = train_hi_with_external[train_hi_with_external['logS'] >= -1.].reset_index(drop=True)\n",
    "train_hi_with_external.shape"
   ]
  },
  {
   "cell_type": "code",
   "execution_count": 6,
   "metadata": {},
   "outputs": [],
   "source": [
    "logS_mean, logS_std = train['logS'].mean(), train['logS'].std()\n",
    "S_mean, S_std = train['S'].mean(), train['S'].std()\n",
    "\n",
    "train_hi['logS_norm'] = (train_hi['logS'] - logS_mean) / logS_std\n",
    "train_hi['S_norm'] = (train_hi['S'] - S_mean) / S_std\n",
    "valid_hi['logS_norm'] = (valid_hi['logS'] - logS_mean) / logS_std\n",
    "valid_hi['S_norm'] = (valid_hi['S'] - S_mean) / S_std\n",
    "train['logS_norm'] = (train['logS'] - logS_mean) / logS_std\n",
    "train['S_norm'] = (train['S'] - S_mean) / S_std"
   ]
  },
  {
   "cell_type": "code",
   "execution_count": 7,
   "metadata": {},
   "outputs": [
    {
     "data": {
      "image/png": "[encoded data removed]",
      "text/plain": [
       "<Figure size 640x480 with 1 Axes>"
      ]
     },
     "metadata": {},
     "output_type": "display_data"
    }
   ],
   "source": [
    "y_pred = 0.2 * np.random.randn(len(test)) + 1.5\n",
    "sns.histplot(y_pred, bins=50);"
   ]
  },
  {
   "cell_type": "code",
   "execution_count": 8,
   "metadata": {},
   "outputs": [
    {
     "data": {
      "text/html": [
       "<table border=\"1\"><tr><th>name</th><td>None</td></tr><tr><th>description</th><td></td></tr><tr><th>tags</th><td></td></tr><tr><th>user_attributes</th><td></td></tr><tr><th>owner</th><td>None</td></tr><tr><th>polaris_version</th><td>dev</td></tr><tr><th>benchmark_name</th><td>adme-fang-SOLU-1</td></tr><tr><th>benchmark_owner</th><td><table border=\"1\"><tr><th>slug</th><td>polaris</td></tr><tr><th>external_id</th><td>org_2gtoaJIVrgRqiIR8Qm5BnpFCbxu</td></tr><tr><th>type</th><td>organization</td></tr></table></td></tr><tr><th>github_url</th><td>None</td></tr><tr><th>paper_url</th><td>None</td></tr><tr><th>contributors</th><td>None</td></tr><tr><th>artifact_id</th><td>None</td></tr><tr><th>benchmark_artifact_id</th><td>polaris/adme-fang-solu-1</td></tr><tr><th>results</th><td><table border=\"1\"><thead><tr><th>Test set</th><th>Target label</th><th>Metric</th><th>Score</th></tr></thead><tbody><tr><td>test</td><td>LOG_SOLUBILITY</td><td>mean_absolute_error</td><td>0.5199767201</td></tr><tr><td>test</td><td>LOG_SOLUBILITY</td><td>mean_squared_error</td><td>0.6536645301</td></tr><tr><td>test</td><td>LOG_SOLUBILITY</td><td>r2</td><td>-0.2056257511</td></tr><tr><td>test</td><td>LOG_SOLUBILITY</td><td>spearmanr</td><td>-0.0098429035</td></tr><tr><td>test</td><td>LOG_SOLUBILITY</td><td>pearsonr</td><td>-0.0118886754</td></tr><tr><td>test</td><td>LOG_SOLUBILITY</td><td>explained_var</td><td>-0.0784179963</td></tr></tbody></table></td></tr></table>"
      ],
      "text/plain": [
       "{\n",
       "  \"name\": null,\n",
       "  \"description\": \"\",\n",
       "  \"tags\": [],\n",
       "  \"user_attributes\": {},\n",
       "  \"owner\": null,\n",
       "  \"polaris_version\": \"dev\",\n",
       "  \"benchmark_name\": \"adme-fang-SOLU-1\",\n",
       "  \"benchmark_owner\": {\n",
       "    \"slug\": \"polaris\",\n",
       "    \"external_id\": \"org_2gtoaJIVrgRqiIR8Qm5BnpFCbxu\",\n",
       "    \"type\": \"organization\"\n",
       "  },\n",
       "  \"github_url\": null,\n",
       "  \"paper_url\": null,\n",
       "  \"contributors\": null,\n",
       "  \"artifact_id\": null,\n",
       "  \"benchmark_artifact_id\": \"polaris/adme-fang-solu-1\",\n",
       "  \"results\": [\n",
       "    {\n",
       "      \"Test set\": \"test\",\n",
       "      \"Target label\": \"LOG_SOLUBILITY\",\n",
       "      \"Metric\": \"mean_absolute_error\",\n",
       "      \"Score\": 0.5199767201\n",
       "    },\n",
       "    {\n",
       "      \"Test set\": \"test\",\n",
       "      \"Target label\": \"LOG_SOLUBILITY\",\n",
       "      \"Metric\": \"mean_squared_error\",\n",
       "      \"Score\": 0.6536645301\n",
       "    },\n",
       "    {\n",
       "      \"Test set\": \"test\",\n",
       "      \"Target label\": \"LOG_SOLUBILITY\",\n",
       "      \"Metric\": \"r2\",\n",
       "      \"Score\": -0.2056257511\n",
       "    },\n",
       "    {\n",
       "      \"Test set\": \"test\",\n",
       "      \"Target label\": \"LOG_SOLUBILITY\",\n",
       "      \"Metric\": \"spearmanr\",\n",
       "      \"Score\": -0.0098429035\n",
       "    },\n",
       "    {\n",
       "      \"Test set\": \"test\",\n",
       "      \"Target label\": \"LOG_SOLUBILITY\",\n",
       "      \"Metric\": \"pearsonr\",\n",
       "      \"Score\": -0.0118886754\n",
       "    },\n",
       "    {\n",
       "      \"Test set\": \"test\",\n",
       "      \"Target label\": \"LOG_SOLUBILITY\",\n",
       "      \"Metric\": \"explained_var\",\n",
       "      \"Score\": -0.0784179963\n",
       "    }\n",
       "  ]\n",
       "}"
      ]
     },
     "execution_count": 8,
     "metadata": {},
     "output_type": "execute_result"
    }
   ],
   "source": [
    "results = benchmark.evaluate(y_pred)\n",
    "results"
   ]
  },
  {
   "cell_type": "code",
   "execution_count": 9,
   "metadata": {},
   "outputs": [],
   "source": [
    "import numpy as np\n",
    "import torch\n",
    "from transformers import AutoModel, AutoTokenizer\n",
    "import pandas as pd"
   ]
  },
  {
   "cell_type": "code",
   "execution_count": 10,
   "metadata": {},
   "outputs": [],
   "source": [
    "def renumerate_smiles(smiles):\n",
    "    \"\"\"Perform a randomization of a SMILES string\n",
    "    must be RDKit sanitizable\"\"\"\n",
    "    m = Chem.MolFromSmiles(smiles)\n",
    "    ans = list(range(m.GetNumAtoms()))\n",
    "    np.random.shuffle(ans)\n",
    "    nm = Chem.RenumberAtoms(m,ans)\n",
    "    smiles = Chem.MolToSmiles(nm, canonical=False, isomericSmiles=True)\n",
    "\n",
    "    return smiles\n",
    "\n",
    "def randomly_mask_smiles(mol_sentence: str, mol_masking_val: float, mask_token: int) -> str:\n",
    "    mask = torch.rand((len(mol_sentence),)) >= mol_masking_val\n",
    "    masked_mol_sentence = ''.join([\n",
    "        char if mask[i] else mask_token for i, char in enumerate(mol_sentence)\n",
    "    ])\n",
    "\n",
    "    return masked_mol_sentence\n",
    "\n",
    "class TransformersTokenizer:\n",
    "    def __init__(self, pretrained_model_name_or_path, max_length, padding, truncation, do_lower_case) -> None:\n",
    "        if pretrained_model_name_or_path == 'ibm/MoLFormer-XL-both-10pct':\n",
    "            self.tokenizer = AutoTokenizer.from_pretrained(\n",
    "                pretrained_model_name_or_path, do_lower_case=do_lower_case, trust_remote_code=True\n",
    "            )\n",
    "        else:\n",
    "            print(f'Loading an unknown tokenizer: {pretrained_model_name_or_path}')\n",
    "            self.tokenizer = AutoTokenizer.from_pretrained(pretrained_model_name_or_path, use_fast=False, max_len=128)\n",
    "        self.max_length = max_length\n",
    "        self.padding = padding\n",
    "        self.truncation = truncation\n",
    "\n",
    "    def tokenize(self, seq: str) -> tuple[list[int], list[int]]:\n",
    "        raise NotImplementedError()\n",
    "\n",
    "    @property\n",
    "    def pad_token_id(self) -> int:\n",
    "        return self.tokenizer.pad_token_id\n",
    "\n",
    "\n",
    "class MolTransformersTokenizer(TransformersTokenizer):\n",
    "    def __init__(self, pretrained_model_name_or_path, max_length=128, padding=False, truncation=True) -> None:\n",
    "        super().__init__(\n",
    "            pretrained_model_name_or_path=pretrained_model_name_or_path,\n",
    "            max_length=max_length,\n",
    "            padding=padding,\n",
    "            truncation=truncation,\n",
    "            do_lower_case=False\n",
    "        )\n",
    "\n",
    "    def tokenize(self, smiles: str) -> tuple[list[int], list[int]]:\n",
    "        tokenized = self.tokenizer(smiles, max_length=self.max_length,\n",
    "                                   padding=self.padding, truncation=self.truncation)\n",
    "        \n",
    "        return tokenized['input_ids'], tokenized['attention_mask']\n",
    "\n",
    "\n",
    "class BasicTokenizationDataset(Dataset):\n",
    "    def __init__(self, data: pd.DataFrame, tokenizer: TransformersTokenizer, smiles_col: str,\n",
    "                 randomize_smiles: bool = False, mol_masking_prob: float = 0.3, mol_masking_val: float = 0.0,\n",
    "                 truncate: bool = False, eval_mode: bool = True) -> None:\n",
    "        super().__init__()\n",
    "        self.data = data\n",
    "        self.smiles_col = smiles_col\n",
    "        self.randomize_smiles = randomize_smiles\n",
    "        self.mol_masking_prob = mol_masking_prob\n",
    "        self.mol_masking_val = mol_masking_val\n",
    "        self.tokenizer = tokenizer\n",
    "        self.truncate = truncate\n",
    "        self.eval_mode = eval_mode\n",
    "\n",
    "    def __len__(self) -> int:\n",
    "        return len(self.data)\n",
    "\n",
    "    def __getitem__(self, index: int):\n",
    "        smiles_orig = self.data.iloc[index][self.smiles_col]\n",
    "\n",
    "        if self.randomize_smiles and (np.random.rand() < 0.5):\n",
    "            smiles = renumerate_smiles(smiles_orig)\n",
    "        else:\n",
    "            smiles = smiles_orig\n",
    "        if (self.mol_masking_val > 0.) and (np.random.rand() < self.mol_masking_prob):\n",
    "            smiles = randomly_mask_smiles(\n",
    "                smiles, self.mol_masking_val, self.tokenizer.tokenizer.mask_token\n",
    "            )\n",
    "\n",
    "        if not self.eval_mode:\n",
    "            label_logs = torch.tensor(self.data.iloc[index]['logS'], dtype=torch.float32)\n",
    "            label_s = torch.tensor(self.data.iloc[index]['S'], dtype=torch.float32)\n",
    "        input_ids, attention_mask = self.tokenizer.tokenize(smiles)\n",
    "\n",
    "        sample = {\n",
    "            'input_ids': input_ids,\n",
    "            'attention_mask': attention_mask\n",
    "        }\n",
    "\n",
    "        if not self.eval_mode:\n",
    "            sample['label_logs'] = label_logs\n",
    "            sample['label_s'] = label_s\n",
    "\n",
    "        return sample\n",
    "\n",
    "    def collate_fn(self, samples):\n",
    "        input_ids = [sample['input_ids'] for sample in samples]\n",
    "        attention_mask = [sample['attention_mask'] for sample in samples]\n",
    "        input_ids, attention_mask = BasicTokenizationDataset.pad_sequences(\n",
    "            input_ids, attention_mask, self.tokenizer.pad_token_id\n",
    "        )\n",
    "\n",
    "        batch = {\n",
    "            'input_ids': input_ids,\n",
    "            'attention_mask': attention_mask\n",
    "        }\n",
    "\n",
    "        if not self.eval_mode:\n",
    "            batch['label_logs'] = torch.stack([sample['label_logs'] for sample in samples])\n",
    "            batch['label_s'] = torch.stack([sample['label_s'] for sample in samples])\n",
    "\n",
    "        return batch\n",
    "\n",
    "    @staticmethod\n",
    "    def pad_sequences(input_ids, attention_mask, pad_token_id=0):\n",
    "        max_seq_len = max([len(inp) for inp in input_ids])\n",
    "        input_ids_ = torch.full((len(input_ids), max_seq_len), pad_token_id, dtype=torch.long)\n",
    "        attention_mask_ = torch.zeros((len(input_ids), max_seq_len), dtype=torch.bool)\n",
    "        for i, (inp, att_mask) in enumerate(zip(input_ids, attention_mask)):\n",
    "            input_ids_[i, :len(inp)] = torch.tensor(inp, dtype=torch.long)\n",
    "            attention_mask_[i, :len(att_mask)] = torch.tensor(att_mask, dtype=torch.long)\n",
    "\n",
    "        return input_ids_, attention_mask_"
   ]
  },
  {
   "cell_type": "code",
   "execution_count": 12,
   "metadata": {},
   "outputs": [],
   "source": [
    "class Model(nn.Module):\n",
    "    def __init__(self, model_name_or_path: str, num_classes: int) -> None:\n",
    "        super().__init__()\n",
    "        self.model = AutoModel.from_pretrained(model_name_or_path, trust_remote_code=True, deterministic_eval=True)\n",
    "        self.linear1 = nn.Linear(self.model.config.hidden_size, 512)\n",
    "        self.linear2 = nn.Linear(self.model.config.hidden_size, 512)\n",
    "        # self.dropout = nn.Dropout(0.2)\n",
    "        self.classifier_logs = nn.Linear(512, num_classes)\n",
    "        self.classifier_s = nn.Linear(512, num_classes)\n",
    "\n",
    "    def forward(self, input_ids, attention_mask):\n",
    "        outputs = self.model(input_ids, attention_mask)\n",
    "        x = outputs.last_hidden_state\n",
    "        input_mask_expanded = attention_mask.unsqueeze(-1).expand(x.size()).type(torch.bool)\n",
    "        x[~input_mask_expanded] = torch.finfo(torch.float16).min  # Set padding tokens to large negative value\n",
    "        feats_max_pool = F.max_pool1d(x.permute(0, 2, 1), kernel_size=x.size(1)).squeeze(-1)\n",
    "        # feats_avg_pool = (x * attention_mask.unsqueeze(-1)).sum(1) / attention_mask.sum(-1).unsqueeze(-1)\n",
    "\n",
    "        # x = torch.cat([self.linear1(feats_max_pool), self.linear2(feats_avg_pool)], dim=1)\n",
    "        x = self.linear1(feats_max_pool)\n",
    "        # x = self.dropout(x)\n",
    "        output_logs = self.classifier_logs(x)\n",
    "        output_s = self.classifier_s(x)\n",
    "\n",
    "        return output_logs, output_s"
   ]
  },
  {
   "cell_type": "code",
   "execution_count": 13,
   "metadata": {},
   "outputs": [],
   "source": [
    "def train_step(model, data_loader, optimizer, criterion):\n",
    "    model.train()\n",
    "    total_loss = 0.\n",
    "    for batch in tqdm(data_loader):\n",
    "        batch = {k: v.cuda() for k, v in batch.items()}\n",
    "        input_ids, attention_mask = batch['input_ids'], batch['attention_mask']\n",
    "        label_logs, label_s = batch['label_logs'], batch['label_s']\n",
    "        output_logs, output_s = model(input_ids, attention_mask)\n",
    "        output_logs, output_s = output_logs.squeeze(-1), output_s.squeeze(-1)\n",
    "        loss_logs = criterion(output_logs, label_logs)\n",
    "        loss = loss_logs\n",
    "        # loss_s = criterion(output_s, label_s)\n",
    "        # loss = loss_logs + loss_s\n",
    "        optimizer.zero_grad()\n",
    "        loss.backward()\n",
    "        optimizer.step()\n",
    "        total_loss += loss.item()\n",
    "\n",
    "    return total_loss / len(data_loader)\n",
    "\n",
    "def eval_step(model, data_loader, test_mode=False):\n",
    "    model.eval()\n",
    "    predictions_logs, predictions_s = [], []\n",
    "    for batch in data_loader:\n",
    "        batch = {k: v.cuda() for k, v in batch.items()}\n",
    "        with torch.no_grad():\n",
    "            output_logs, output_s = model(batch['input_ids'], batch['attention_mask'])\n",
    "            output_logs, output_s = output_logs.squeeze(-1), output_s.squeeze(-1)\n",
    "        predictions_logs.append(output_logs.detach().cpu().numpy())\n",
    "    predictions_logs = np.concatenate(predictions_logs)\n",
    "    # predictions_logs = predictions_logs * logS_std + logS_mean\n",
    "\n",
    "    if test_mode:\n",
    "        return None, predictions_logs\n",
    "    else:\n",
    "        r2 = r2_score(data_loader.dataset.data['logS'], predictions_logs)\n",
    "        return r2, predictions_logs"
   ]
  },
  {
   "cell_type": "code",
   "execution_count": 25,
   "metadata": {},
   "outputs": [
    {
     "name": "stderr",
     "output_type": "stream",
     "text": [
      "  0%|          | 0/10 [00:00<?, ?it/s]"
     ]
    },
    {
     "name": "stderr",
     "output_type": "stream",
     "text": [
      "100%|██████████| 10/10 [00:03<00:00,  3.16it/s]\n"
     ]
    },
    {
     "name": "stdout",
     "output_type": "stream",
     "text": [
      "Epoch: 0, Train Hi Loss: 1.0718 Valid Hi R2: 9.73%\n"
     ]
    },
    {
     "name": "stderr",
     "output_type": "stream",
     "text": [
      "100%|██████████| 13/13 [00:03<00:00,  3.34it/s]\n"
     ]
    },
    {
     "name": "stdout",
     "output_type": "stream",
     "text": [
      "Epoch: 0, Train Hi Loss: 1.0718 Train submit Loss: 0.7717 Valid Hi R2: 9.73%\n"
     ]
    },
    {
     "name": "stderr",
     "output_type": "stream",
     "text": [
      "100%|██████████| 10/10 [00:03<00:00,  3.17it/s]\n"
     ]
    },
    {
     "name": "stdout",
     "output_type": "stream",
     "text": [
      "Epoch: 1, Train Hi Loss: 0.5328 Valid Hi R2: 7.00%\n"
     ]
    },
    {
     "name": "stderr",
     "output_type": "stream",
     "text": [
      "100%|██████████| 13/13 [00:04<00:00,  3.19it/s]\n"
     ]
    },
    {
     "name": "stdout",
     "output_type": "stream",
     "text": [
      "Epoch: 1, Train Hi Loss: 0.5328 Train submit Loss: 0.4702 Valid Hi R2: 7.00%\n"
     ]
    },
    {
     "name": "stderr",
     "output_type": "stream",
     "text": [
      "100%|██████████| 10/10 [00:03<00:00,  3.14it/s]\n"
     ]
    },
    {
     "name": "stdout",
     "output_type": "stream",
     "text": [
      "Epoch: 2, Train Hi Loss: 0.3831 Valid Hi R2: 9.25%\n"
     ]
    },
    {
     "name": "stderr",
     "output_type": "stream",
     "text": [
      "100%|██████████| 13/13 [00:03<00:00,  3.33it/s]\n"
     ]
    },
    {
     "name": "stdout",
     "output_type": "stream",
     "text": [
      "Epoch: 2, Train Hi Loss: 0.3831 Train submit Loss: 0.3475 Valid Hi R2: 9.25%\n"
     ]
    },
    {
     "name": "stderr",
     "output_type": "stream",
     "text": [
      "100%|██████████| 10/10 [00:03<00:00,  3.17it/s]\n"
     ]
    },
    {
     "name": "stdout",
     "output_type": "stream",
     "text": [
      "Epoch: 3, Train Hi Loss: 0.3544 Valid Hi R2: 14.65%\n"
     ]
    },
    {
     "name": "stderr",
     "output_type": "stream",
     "text": [
      "100%|██████████| 13/13 [00:04<00:00,  3.24it/s]\n"
     ]
    },
    {
     "name": "stdout",
     "output_type": "stream",
     "text": [
      "Epoch: 3, Train Hi Loss: 0.3544 Train submit Loss: 0.2928 Valid Hi R2: 14.65%\n"
     ]
    },
    {
     "name": "stderr",
     "output_type": "stream",
     "text": [
      "100%|██████████| 10/10 [00:03<00:00,  3.13it/s]\n"
     ]
    },
    {
     "name": "stdout",
     "output_type": "stream",
     "text": [
      "Epoch: 4, Train Hi Loss: 0.3294 Valid Hi R2: 22.65%\n"
     ]
    },
    {
     "name": "stderr",
     "output_type": "stream",
     "text": [
      "100%|██████████| 13/13 [00:03<00:00,  3.31it/s]\n"
     ]
    },
    {
     "name": "stdout",
     "output_type": "stream",
     "text": [
      "Epoch: 4, Train Hi Loss: 0.3294 Train submit Loss: 0.2732 Valid Hi R2: 22.65%\n"
     ]
    },
    {
     "name": "stderr",
     "output_type": "stream",
     "text": [
      "100%|██████████| 10/10 [00:03<00:00,  3.19it/s]\n"
     ]
    },
    {
     "name": "stdout",
     "output_type": "stream",
     "text": [
      "Epoch: 5, Train Hi Loss: 0.2919 Valid Hi R2: 22.28%\n"
     ]
    },
    {
     "name": "stderr",
     "output_type": "stream",
     "text": [
      "100%|██████████| 13/13 [00:04<00:00,  3.19it/s]\n"
     ]
    },
    {
     "name": "stdout",
     "output_type": "stream",
     "text": [
      "Epoch: 5, Train Hi Loss: 0.2919 Train submit Loss: 0.2688 Valid Hi R2: 22.28%\n"
     ]
    },
    {
     "name": "stderr",
     "output_type": "stream",
     "text": [
      "100%|██████████| 10/10 [00:03<00:00,  3.11it/s]\n"
     ]
    },
    {
     "name": "stdout",
     "output_type": "stream",
     "text": [
      "Epoch: 6, Train Hi Loss: 0.2664 Valid Hi R2: 31.06%\n"
     ]
    },
    {
     "name": "stderr",
     "output_type": "stream",
     "text": [
      "100%|██████████| 13/13 [00:03<00:00,  3.28it/s]\n"
     ]
    },
    {
     "name": "stdout",
     "output_type": "stream",
     "text": [
      "Epoch: 6, Train Hi Loss: 0.2664 Train submit Loss: 0.2487 Valid Hi R2: 31.06%\n"
     ]
    },
    {
     "name": "stderr",
     "output_type": "stream",
     "text": [
      "100%|██████████| 10/10 [00:03<00:00,  3.11it/s]\n"
     ]
    },
    {
     "name": "stdout",
     "output_type": "stream",
     "text": [
      "Epoch: 7, Train Hi Loss: 0.2479 Valid Hi R2: 31.45%\n"
     ]
    },
    {
     "name": "stderr",
     "output_type": "stream",
     "text": [
      "100%|██████████| 13/13 [00:04<00:00,  3.22it/s]\n"
     ]
    },
    {
     "name": "stdout",
     "output_type": "stream",
     "text": [
      "Epoch: 7, Train Hi Loss: 0.2479 Train submit Loss: 0.2290 Valid Hi R2: 31.45%\n"
     ]
    },
    {
     "name": "stderr",
     "output_type": "stream",
     "text": [
      "100%|██████████| 10/10 [00:03<00:00,  3.12it/s]\n"
     ]
    },
    {
     "name": "stdout",
     "output_type": "stream",
     "text": [
      "Epoch: 8, Train Hi Loss: 0.2326 Valid Hi R2: 30.61%\n"
     ]
    },
    {
     "name": "stderr",
     "output_type": "stream",
     "text": [
      "100%|██████████| 13/13 [00:03<00:00,  3.28it/s]\n"
     ]
    },
    {
     "name": "stdout",
     "output_type": "stream",
     "text": [
      "Epoch: 8, Train Hi Loss: 0.2326 Train submit Loss: 0.2198 Valid Hi R2: 30.61%\n"
     ]
    },
    {
     "name": "stderr",
     "output_type": "stream",
     "text": [
      "100%|██████████| 10/10 [00:03<00:00,  3.20it/s]\n"
     ]
    },
    {
     "name": "stdout",
     "output_type": "stream",
     "text": [
      "Epoch: 9, Train Hi Loss: 0.2286 Valid Hi R2: 26.25%\n"
     ]
    },
    {
     "name": "stderr",
     "output_type": "stream",
     "text": [
      "100%|██████████| 13/13 [00:04<00:00,  3.21it/s]\n"
     ]
    },
    {
     "name": "stdout",
     "output_type": "stream",
     "text": [
      "Epoch: 9, Train Hi Loss: 0.2286 Train submit Loss: 0.2149 Valid Hi R2: 26.25%\n"
     ]
    },
    {
     "name": "stderr",
     "output_type": "stream",
     "text": [
      "100%|██████████| 10/10 [00:03<00:00,  3.16it/s]\n"
     ]
    },
    {
     "name": "stdout",
     "output_type": "stream",
     "text": [
      "Epoch: 10, Train Hi Loss: 0.2142 Valid Hi R2: 28.79%\n"
     ]
    },
    {
     "name": "stderr",
     "output_type": "stream",
     "text": [
      "100%|██████████| 13/13 [00:03<00:00,  3.28it/s]\n"
     ]
    },
    {
     "name": "stdout",
     "output_type": "stream",
     "text": [
      "Epoch: 10, Train Hi Loss: 0.2142 Train submit Loss: 0.2160 Valid Hi R2: 28.79%\n"
     ]
    },
    {
     "name": "stderr",
     "output_type": "stream",
     "text": [
      "100%|██████████| 10/10 [00:03<00:00,  3.12it/s]\n"
     ]
    },
    {
     "name": "stdout",
     "output_type": "stream",
     "text": [
      "Epoch: 11, Train Hi Loss: 0.1933 Valid Hi R2: 29.78%\n"
     ]
    },
    {
     "name": "stderr",
     "output_type": "stream",
     "text": [
      "100%|██████████| 13/13 [00:04<00:00,  3.23it/s]\n"
     ]
    },
    {
     "name": "stdout",
     "output_type": "stream",
     "text": [
      "Epoch: 11, Train Hi Loss: 0.1933 Train submit Loss: 0.1910 Valid Hi R2: 29.78%\n"
     ]
    },
    {
     "name": "stderr",
     "output_type": "stream",
     "text": [
      "100%|██████████| 10/10 [00:03<00:00,  3.16it/s]\n"
     ]
    },
    {
     "name": "stdout",
     "output_type": "stream",
     "text": [
      "Epoch: 12, Train Hi Loss: 0.1800 Valid Hi R2: 27.83%\n"
     ]
    },
    {
     "name": "stderr",
     "output_type": "stream",
     "text": [
      "100%|██████████| 13/13 [00:03<00:00,  3.26it/s]\n"
     ]
    },
    {
     "name": "stdout",
     "output_type": "stream",
     "text": [
      "Epoch: 12, Train Hi Loss: 0.1800 Train submit Loss: 0.2019 Valid Hi R2: 27.83%\n"
     ]
    },
    {
     "name": "stderr",
     "output_type": "stream",
     "text": [
      "100%|██████████| 10/10 [00:03<00:00,  3.13it/s]\n"
     ]
    },
    {
     "name": "stdout",
     "output_type": "stream",
     "text": [
      "Epoch: 13, Train Hi Loss: 0.1640 Valid Hi R2: 29.23%\n"
     ]
    },
    {
     "name": "stderr",
     "output_type": "stream",
     "text": [
      "100%|██████████| 13/13 [00:04<00:00,  3.22it/s]\n"
     ]
    },
    {
     "name": "stdout",
     "output_type": "stream",
     "text": [
      "Epoch: 13, Train Hi Loss: 0.1640 Train submit Loss: 0.1874 Valid Hi R2: 29.23%\n"
     ]
    },
    {
     "name": "stderr",
     "output_type": "stream",
     "text": [
      "100%|██████████| 10/10 [00:03<00:00,  3.09it/s]\n"
     ]
    },
    {
     "name": "stdout",
     "output_type": "stream",
     "text": [
      "Epoch: 14, Train Hi Loss: 0.1527 Valid Hi R2: 31.86%\n"
     ]
    },
    {
     "name": "stderr",
     "output_type": "stream",
     "text": [
      "100%|██████████| 13/13 [00:04<00:00,  3.24it/s]\n"
     ]
    },
    {
     "name": "stdout",
     "output_type": "stream",
     "text": [
      "Epoch: 14, Train Hi Loss: 0.1527 Train submit Loss: 0.1564 Valid Hi R2: 31.86%\n"
     ]
    },
    {
     "name": "stderr",
     "output_type": "stream",
     "text": [
      "100%|██████████| 10/10 [00:03<00:00,  3.14it/s]\n"
     ]
    },
    {
     "name": "stdout",
     "output_type": "stream",
     "text": [
      "Epoch: 15, Train Hi Loss: 0.1489 Valid Hi R2: 25.67%\n"
     ]
    },
    {
     "name": "stderr",
     "output_type": "stream",
     "text": [
      "100%|██████████| 13/13 [00:04<00:00,  3.22it/s]\n"
     ]
    },
    {
     "name": "stdout",
     "output_type": "stream",
     "text": [
      "Epoch: 15, Train Hi Loss: 0.1489 Train submit Loss: 0.1525 Valid Hi R2: 25.67%\n"
     ]
    },
    {
     "name": "stderr",
     "output_type": "stream",
     "text": [
      "100%|██████████| 10/10 [00:03<00:00,  3.13it/s]\n"
     ]
    },
    {
     "name": "stdout",
     "output_type": "stream",
     "text": [
      "Epoch: 16, Train Hi Loss: 0.1417 Valid Hi R2: 25.17%\n"
     ]
    },
    {
     "name": "stderr",
     "output_type": "stream",
     "text": [
      "100%|██████████| 13/13 [00:03<00:00,  3.31it/s]\n"
     ]
    },
    {
     "name": "stdout",
     "output_type": "stream",
     "text": [
      "Epoch: 16, Train Hi Loss: 0.1417 Train submit Loss: 0.1546 Valid Hi R2: 25.17%\n"
     ]
    },
    {
     "name": "stderr",
     "output_type": "stream",
     "text": [
      "100%|██████████| 10/10 [00:03<00:00,  3.16it/s]\n"
     ]
    },
    {
     "name": "stdout",
     "output_type": "stream",
     "text": [
      "Epoch: 17, Train Hi Loss: 0.1496 Valid Hi R2: 22.02%\n"
     ]
    },
    {
     "name": "stderr",
     "output_type": "stream",
     "text": [
      "100%|██████████| 13/13 [00:04<00:00,  3.24it/s]\n"
     ]
    },
    {
     "name": "stdout",
     "output_type": "stream",
     "text": [
      "Epoch: 17, Train Hi Loss: 0.1496 Train submit Loss: 0.1628 Valid Hi R2: 22.02%\n"
     ]
    },
    {
     "name": "stderr",
     "output_type": "stream",
     "text": [
      " 20%|██        | 2/10 [00:00<00:03,  2.41it/s]\n"
     ]
    },
    {
     "ename": "KeyboardInterrupt",
     "evalue": "",
     "output_type": "error",
     "traceback": [
      "\u001b[0;31m---------------------------------------------------------------------------\u001b[0m",
      "\u001b[0;31mKeyboardInterrupt\u001b[0m                         Traceback (most recent call last)",
      "Cell \u001b[0;32mIn[25], line 33\u001b[0m\n\u001b[1;32m     31\u001b[0m torch\u001b[38;5;241m.\u001b[39mset_grad_enabled(\u001b[38;5;28;01mTrue\u001b[39;00m)\n\u001b[1;32m     32\u001b[0m \u001b[38;5;28;01mfor\u001b[39;00m epoch \u001b[38;5;129;01min\u001b[39;00m \u001b[38;5;28mrange\u001b[39m(N_EPOCHS):\n\u001b[0;32m---> 33\u001b[0m     train_hi_loss \u001b[38;5;241m=\u001b[39m \u001b[43mtrain_step\u001b[49m\u001b[43m(\u001b[49m\u001b[43mmodel\u001b[49m\u001b[43m,\u001b[49m\u001b[43m \u001b[49m\u001b[43mtrain_hi_dataloader\u001b[49m\u001b[43m,\u001b[49m\u001b[43m \u001b[49m\u001b[43moptimizer\u001b[49m\u001b[43m,\u001b[49m\u001b[43m \u001b[49m\u001b[43mcriteria_mse\u001b[49m\u001b[43m)\u001b[49m\n\u001b[1;32m     34\u001b[0m     valid_hi_r2, _ \u001b[38;5;241m=\u001b[39m eval_step(model, valid_hi_dataloader)\n\u001b[1;32m     35\u001b[0m     \u001b[38;5;28mprint\u001b[39m(\u001b[38;5;124mf\u001b[39m\u001b[38;5;124m'\u001b[39m\u001b[38;5;124mEpoch: \u001b[39m\u001b[38;5;132;01m{\u001b[39;00mepoch\u001b[38;5;132;01m}\u001b[39;00m\u001b[38;5;124m, Train Hi Loss: \u001b[39m\u001b[38;5;132;01m{\u001b[39;00mtrain_hi_loss\u001b[38;5;132;01m:\u001b[39;00m\u001b[38;5;124m.4f\u001b[39m\u001b[38;5;132;01m}\u001b[39;00m\u001b[38;5;124m Valid Hi R2: \u001b[39m\u001b[38;5;132;01m{\u001b[39;00mvalid_hi_r2\u001b[38;5;132;01m:\u001b[39;00m\u001b[38;5;124m.2%\u001b[39m\u001b[38;5;132;01m}\u001b[39;00m\u001b[38;5;124m'\u001b[39m)\n",
      "Cell \u001b[0;32mIn[13], line 15\u001b[0m, in \u001b[0;36mtrain_step\u001b[0;34m(model, data_loader, optimizer, criterion)\u001b[0m\n\u001b[1;32m     12\u001b[0m \u001b[38;5;66;03m# loss_s = criterion(output_s, label_s)\u001b[39;00m\n\u001b[1;32m     13\u001b[0m \u001b[38;5;66;03m# loss = loss_logs + loss_s\u001b[39;00m\n\u001b[1;32m     14\u001b[0m optimizer\u001b[38;5;241m.\u001b[39mzero_grad()\n\u001b[0;32m---> 15\u001b[0m \u001b[43mloss\u001b[49m\u001b[38;5;241;43m.\u001b[39;49m\u001b[43mbackward\u001b[49m\u001b[43m(\u001b[49m\u001b[43m)\u001b[49m\n\u001b[1;32m     16\u001b[0m optimizer\u001b[38;5;241m.\u001b[39mstep()\n\u001b[1;32m     17\u001b[0m total_loss \u001b[38;5;241m+\u001b[39m\u001b[38;5;241m=\u001b[39m loss\u001b[38;5;241m.\u001b[39mitem()\n",
      "File \u001b[0;32m~/miniconda3/envs/chem/lib/python3.11/site-packages/torch/_tensor.py:525\u001b[0m, in \u001b[0;36mTensor.backward\u001b[0;34m(self, gradient, retain_graph, create_graph, inputs)\u001b[0m\n\u001b[1;32m    515\u001b[0m \u001b[38;5;28;01mif\u001b[39;00m has_torch_function_unary(\u001b[38;5;28mself\u001b[39m):\n\u001b[1;32m    516\u001b[0m     \u001b[38;5;28;01mreturn\u001b[39;00m handle_torch_function(\n\u001b[1;32m    517\u001b[0m         Tensor\u001b[38;5;241m.\u001b[39mbackward,\n\u001b[1;32m    518\u001b[0m         (\u001b[38;5;28mself\u001b[39m,),\n\u001b[0;32m   (...)\u001b[0m\n\u001b[1;32m    523\u001b[0m         inputs\u001b[38;5;241m=\u001b[39minputs,\n\u001b[1;32m    524\u001b[0m     )\n\u001b[0;32m--> 525\u001b[0m \u001b[43mtorch\u001b[49m\u001b[38;5;241;43m.\u001b[39;49m\u001b[43mautograd\u001b[49m\u001b[38;5;241;43m.\u001b[39;49m\u001b[43mbackward\u001b[49m\u001b[43m(\u001b[49m\n\u001b[1;32m    526\u001b[0m \u001b[43m    \u001b[49m\u001b[38;5;28;43mself\u001b[39;49m\u001b[43m,\u001b[49m\u001b[43m \u001b[49m\u001b[43mgradient\u001b[49m\u001b[43m,\u001b[49m\u001b[43m \u001b[49m\u001b[43mretain_graph\u001b[49m\u001b[43m,\u001b[49m\u001b[43m \u001b[49m\u001b[43mcreate_graph\u001b[49m\u001b[43m,\u001b[49m\u001b[43m \u001b[49m\u001b[43minputs\u001b[49m\u001b[38;5;241;43m=\u001b[39;49m\u001b[43minputs\u001b[49m\n\u001b[1;32m    527\u001b[0m \u001b[43m\u001b[49m\u001b[43m)\u001b[49m\n",
      "File \u001b[0;32m~/miniconda3/envs/chem/lib/python3.11/site-packages/torch/autograd/__init__.py:267\u001b[0m, in \u001b[0;36mbackward\u001b[0;34m(tensors, grad_tensors, retain_graph, create_graph, grad_variables, inputs)\u001b[0m\n\u001b[1;32m    262\u001b[0m     retain_graph \u001b[38;5;241m=\u001b[39m create_graph\n\u001b[1;32m    264\u001b[0m \u001b[38;5;66;03m# The reason we repeat the same comment below is that\u001b[39;00m\n\u001b[1;32m    265\u001b[0m \u001b[38;5;66;03m# some Python versions print out the first line of a multi-line function\u001b[39;00m\n\u001b[1;32m    266\u001b[0m \u001b[38;5;66;03m# calls in the traceback and some print out the last line\u001b[39;00m\n\u001b[0;32m--> 267\u001b[0m \u001b[43m_engine_run_backward\u001b[49m\u001b[43m(\u001b[49m\n\u001b[1;32m    268\u001b[0m \u001b[43m    \u001b[49m\u001b[43mtensors\u001b[49m\u001b[43m,\u001b[49m\n\u001b[1;32m    269\u001b[0m \u001b[43m    \u001b[49m\u001b[43mgrad_tensors_\u001b[49m\u001b[43m,\u001b[49m\n\u001b[1;32m    270\u001b[0m \u001b[43m    \u001b[49m\u001b[43mretain_graph\u001b[49m\u001b[43m,\u001b[49m\n\u001b[1;32m    271\u001b[0m \u001b[43m    \u001b[49m\u001b[43mcreate_graph\u001b[49m\u001b[43m,\u001b[49m\n\u001b[1;32m    272\u001b[0m \u001b[43m    \u001b[49m\u001b[43minputs\u001b[49m\u001b[43m,\u001b[49m\n\u001b[1;32m    273\u001b[0m \u001b[43m    \u001b[49m\u001b[43mallow_unreachable\u001b[49m\u001b[38;5;241;43m=\u001b[39;49m\u001b[38;5;28;43;01mTrue\u001b[39;49;00m\u001b[43m,\u001b[49m\n\u001b[1;32m    274\u001b[0m \u001b[43m    \u001b[49m\u001b[43maccumulate_grad\u001b[49m\u001b[38;5;241;43m=\u001b[39;49m\u001b[38;5;28;43;01mTrue\u001b[39;49;00m\u001b[43m,\u001b[49m\n\u001b[1;32m    275\u001b[0m \u001b[43m\u001b[49m\u001b[43m)\u001b[49m\n",
      "File \u001b[0;32m~/miniconda3/envs/chem/lib/python3.11/site-packages/torch/autograd/graph.py:744\u001b[0m, in \u001b[0;36m_engine_run_backward\u001b[0;34m(t_outputs, *args, **kwargs)\u001b[0m\n\u001b[1;32m    742\u001b[0m     unregister_hooks \u001b[38;5;241m=\u001b[39m _register_logging_hooks_on_whole_graph(t_outputs)\n\u001b[1;32m    743\u001b[0m \u001b[38;5;28;01mtry\u001b[39;00m:\n\u001b[0;32m--> 744\u001b[0m     \u001b[38;5;28;01mreturn\u001b[39;00m \u001b[43mVariable\u001b[49m\u001b[38;5;241;43m.\u001b[39;49m\u001b[43m_execution_engine\u001b[49m\u001b[38;5;241;43m.\u001b[39;49m\u001b[43mrun_backward\u001b[49m\u001b[43m(\u001b[49m\u001b[43m  \u001b[49m\u001b[38;5;66;43;03m# Calls into the C++ engine to run the backward pass\u001b[39;49;00m\n\u001b[1;32m    745\u001b[0m \u001b[43m        \u001b[49m\u001b[43mt_outputs\u001b[49m\u001b[43m,\u001b[49m\u001b[43m \u001b[49m\u001b[38;5;241;43m*\u001b[39;49m\u001b[43margs\u001b[49m\u001b[43m,\u001b[49m\u001b[43m \u001b[49m\u001b[38;5;241;43m*\u001b[39;49m\u001b[38;5;241;43m*\u001b[39;49m\u001b[43mkwargs\u001b[49m\n\u001b[1;32m    746\u001b[0m \u001b[43m    \u001b[49m\u001b[43m)\u001b[49m  \u001b[38;5;66;03m# Calls into the C++ engine to run the backward pass\u001b[39;00m\n\u001b[1;32m    747\u001b[0m \u001b[38;5;28;01mfinally\u001b[39;00m:\n\u001b[1;32m    748\u001b[0m     \u001b[38;5;28;01mif\u001b[39;00m attach_logging_hooks:\n",
      "\u001b[0;31mKeyboardInterrupt\u001b[0m: "
     ]
    }
   ],
   "source": [
    "N_EPOCHS = 30\n",
    "BATCH_SIZE = 128\n",
    "LR = 1e-4\n",
    "\n",
    "model = Model('ibm/MoLFormer-XL-both-10pct', 1)\n",
    "model = model.cuda()\n",
    "model_submit = Model('ibm/MoLFormer-XL-both-10pct', 1)\n",
    "model_submit = model_submit.cuda()\n",
    "best_model, best_model_submit = None, None\n",
    "\n",
    "optimizer = torch.optim.Adam(model.parameters(), lr=LR)\n",
    "optimizer_submit = torch.optim.Adam(model_submit.parameters(), lr=LR)\n",
    "criteria_mse = nn.MSELoss()\n",
    "\n",
    "tokenizer = MolTransformersTokenizer(\"ibm/MoLFormer-XL-both-10pct\", max_length=128)\n",
    "train_hi_dataset = BasicTokenizationDataset(\n",
    "    train_hi, tokenizer, randomize_smiles=True, smiles_col='smiles', eval_mode=False, mol_masking_val=0.15\n",
    ")\n",
    "valid_hi_dataset = BasicTokenizationDataset(valid_hi, tokenizer, smiles_col='smiles')\n",
    "train_dataset = BasicTokenizationDataset(\n",
    "    train, tokenizer, randomize_smiles=True, smiles_col='smiles', eval_mode=False, mol_masking_val=0.15\n",
    ")\n",
    "test_dataset = BasicTokenizationDataset(test, tokenizer, smiles_col='smiles')\n",
    "\n",
    "train_hi_dataloader = DataLoader(train_hi_dataset, batch_size=BATCH_SIZE, shuffle=True, collate_fn=train_hi_dataset.collate_fn)\n",
    "valid_hi_dataloader = DataLoader(valid_hi_dataset, batch_size=512, shuffle=False, collate_fn=valid_hi_dataset.collate_fn)\n",
    "train_dataloader = DataLoader(train_dataset, batch_size=BATCH_SIZE, shuffle=True, collate_fn=train_dataset.collate_fn)\n",
    "test_dataloader = DataLoader(test_dataset, batch_size=512, shuffle=False, collate_fn=test_dataset.collate_fn)\n",
    "\n",
    "best_r2 = -np.inf\n",
    "torch.set_grad_enabled(True)\n",
    "for epoch in range(N_EPOCHS):\n",
    "    train_hi_loss = train_step(model, train_hi_dataloader, optimizer, criteria_mse)\n",
    "    valid_hi_r2, _ = eval_step(model, valid_hi_dataloader)\n",
    "    print(f'Epoch: {epoch}, Train Hi Loss: {train_hi_loss:.4f} Valid Hi R2: {valid_hi_r2:.2%}')\n",
    "\n",
    "    train_submit_loss = train_step(model_submit, train_dataloader, optimizer_submit, criteria_mse)\n",
    "    print(f'Epoch: {epoch}, Train Hi Loss: {train_hi_loss:.4f} Train submit Loss: {train_submit_loss:.4f} Valid Hi R2: {valid_hi_r2:.2%}')\n",
    "\n",
    "    if valid_hi_r2 > best_r2:\n",
    "        best_r2 = valid_hi_r2\n",
    "        best_model_submit = copy.deepcopy(model_submit)\n",
    "        best_model = copy.deepcopy(model)\n",
    "\n",
    "print(f'Best VALID R2: {best_r2:.2%}')"
   ]
  },
  {
   "cell_type": "code",
   "execution_count": 26,
   "metadata": {},
   "outputs": [
    {
     "data": {
      "text/html": [
       "<table border=\"1\"><tr><th>name</th><td>None</td></tr><tr><th>description</th><td></td></tr><tr><th>tags</th><td></td></tr><tr><th>user_attributes</th><td></td></tr><tr><th>owner</th><td>None</td></tr><tr><th>polaris_version</th><td>dev</td></tr><tr><th>benchmark_name</th><td>adme-fang-SOLU-1</td></tr><tr><th>benchmark_owner</th><td><table border=\"1\"><tr><th>slug</th><td>polaris</td></tr><tr><th>external_id</th><td>org_2gtoaJIVrgRqiIR8Qm5BnpFCbxu</td></tr><tr><th>type</th><td>organization</td></tr></table></td></tr><tr><th>github_url</th><td>None</td></tr><tr><th>paper_url</th><td>None</td></tr><tr><th>contributors</th><td>None</td></tr><tr><th>artifact_id</th><td>None</td></tr><tr><th>benchmark_artifact_id</th><td>polaris/adme-fang-solu-1</td></tr><tr><th>results</th><td><table border=\"1\"><thead><tr><th>Test set</th><th>Target label</th><th>Metric</th><th>Score</th></tr></thead><tbody><tr><td>test</td><td>LOG_SOLUBILITY</td><td>mean_absolute_error</td><td>0.3955394886</td></tr><tr><td>test</td><td>LOG_SOLUBILITY</td><td>mean_squared_error</td><td>0.359670682</td></tr><tr><td>test</td><td>LOG_SOLUBILITY</td><td>r2</td><td>0.3366196021</td></tr><tr><td>test</td><td>LOG_SOLUBILITY</td><td>spearmanr</td><td>0.5382854166</td></tr><tr><td>test</td><td>LOG_SOLUBILITY</td><td>pearsonr</td><td>0.6009388904</td></tr><tr><td>test</td><td>LOG_SOLUBILITY</td><td>explained_var</td><td>0.3417272786</td></tr></tbody></table></td></tr></table>"
      ],
      "text/plain": [
       "{\n",
       "  \"name\": null,\n",
       "  \"description\": \"\",\n",
       "  \"tags\": [],\n",
       "  \"user_attributes\": {},\n",
       "  \"owner\": null,\n",
       "  \"polaris_version\": \"dev\",\n",
       "  \"benchmark_name\": \"adme-fang-SOLU-1\",\n",
       "  \"benchmark_owner\": {\n",
       "    \"slug\": \"polaris\",\n",
       "    \"external_id\": \"org_2gtoaJIVrgRqiIR8Qm5BnpFCbxu\",\n",
       "    \"type\": \"organization\"\n",
       "  },\n",
       "  \"github_url\": null,\n",
       "  \"paper_url\": null,\n",
       "  \"contributors\": null,\n",
       "  \"artifact_id\": null,\n",
       "  \"benchmark_artifact_id\": \"polaris/adme-fang-solu-1\",\n",
       "  \"results\": [\n",
       "    {\n",
       "      \"Test set\": \"test\",\n",
       "      \"Target label\": \"LOG_SOLUBILITY\",\n",
       "      \"Metric\": \"mean_absolute_error\",\n",
       "      \"Score\": 0.3955394886\n",
       "    },\n",
       "    {\n",
       "      \"Test set\": \"test\",\n",
       "      \"Target label\": \"LOG_SOLUBILITY\",\n",
       "      \"Metric\": \"mean_squared_error\",\n",
       "      \"Score\": 0.359670682\n",
       "    },\n",
       "    {\n",
       "      \"Test set\": \"test\",\n",
       "      \"Target label\": \"LOG_SOLUBILITY\",\n",
       "      \"Metric\": \"r2\",\n",
       "      \"Score\": 0.3366196021\n",
       "    },\n",
       "    {\n",
       "      \"Test set\": \"test\",\n",
       "      \"Target label\": \"LOG_SOLUBILITY\",\n",
       "      \"Metric\": \"spearmanr\",\n",
       "      \"Score\": 0.5382854166\n",
       "    },\n",
       "    {\n",
       "      \"Test set\": \"test\",\n",
       "      \"Target label\": \"LOG_SOLUBILITY\",\n",
       "      \"Metric\": \"pearsonr\",\n",
       "      \"Score\": 0.6009388904\n",
       "    },\n",
       "    {\n",
       "      \"Test set\": \"test\",\n",
       "      \"Target label\": \"LOG_SOLUBILITY\",\n",
       "      \"Metric\": \"explained_var\",\n",
       "      \"Score\": 0.3417272786\n",
       "    }\n",
       "  ]\n",
       "}"
      ]
     },
     "execution_count": 26,
     "metadata": {},
     "output_type": "execute_result"
    }
   ],
   "source": [
    "_, test_predictions_logs = eval_step(best_model_submit, test_dataloader, test_mode=True)\n",
    "results = benchmark.evaluate(test_predictions_logs)\n",
    "results"
   ]
  },
  {
   "cell_type": "code",
   "execution_count": 34,
   "metadata": {},
   "outputs": [],
   "source": [
    "test_molformer_preds = test_predictions_logs\n",
    "test_xgb_preds = np.load('/home/ubuntu/data/Results/XGB_results.npy')\n",
    "test_preds = 0.5 * test_molformer_preds + 0.5 * test_xgb_preds"
   ]
  },
  {
   "cell_type": "code",
   "execution_count": 33,
   "metadata": {},
   "outputs": [
    {
     "data": {
      "text/html": [
       "<table border=\"1\"><tr><th>name</th><td>ML4DD-team10</td></tr><tr><th>description</th><td>https://docs.google.com/document/d/1sjtQgNrN6tdnXqJiUjNT_nHbRnFH632FqWikktldiM4/edit?usp=sharing</td></tr><tr><th>tags</th><td></td></tr><tr><th>user_attributes</th><td></td></tr><tr><th>owner</th><td>None</td></tr><tr><th>polaris_version</th><td>dev</td></tr><tr><th>benchmark_name</th><td>adme-fang-SOLU-1</td></tr><tr><th>benchmark_owner</th><td><table border=\"1\"><tr><th>slug</th><td>polaris</td></tr><tr><th>external_id</th><td>org_2gtoaJIVrgRqiIR8Qm5BnpFCbxu</td></tr><tr><th>type</th><td>organization</td></tr></table></td></tr><tr><th>github_url</th><td>https://github.com/VladVin/bind-them-all</td></tr><tr><th>paper_url</th><td>None</td></tr><tr><th>contributors</th><td>None</td></tr><tr><th>artifact_id</th><td>None</td></tr><tr><th>benchmark_artifact_id</th><td>polaris/adme-fang-solu-1</td></tr><tr><th>results</th><td><table border=\"1\"><thead><tr><th>Test set</th><th>Target label</th><th>Metric</th><th>Score</th></tr></thead><tbody><tr><td>test</td><td>LOG_SOLUBILITY</td><td>mean_absolute_error</td><td>0.4103523524</td></tr><tr><td>test</td><td>LOG_SOLUBILITY</td><td>mean_squared_error</td><td>0.3444609919</td></tr><tr><td>test</td><td>LOG_SOLUBILITY</td><td>r2</td><td>0.3646725148</td></tr><tr><td>test</td><td>LOG_SOLUBILITY</td><td>spearmanr</td><td>0.5689948257</td></tr><tr><td>test</td><td>LOG_SOLUBILITY</td><td>pearsonr</td><td>0.6253709212</td></tr><tr><td>test</td><td>LOG_SOLUBILITY</td><td>explained_var</td><td>0.3694326684</td></tr></tbody></table></td></tr></table>"
      ],
      "text/plain": [
       "{\n",
       "  \"name\": \"ML4DD-team10\",\n",
       "  \"description\": \"https://docs.google.com/document/d/1sjtQgNrN6tdnXqJiUjNT_nHbRnFH632FqWikktldiM4/edit?usp=sharing\",\n",
       "  \"tags\": [],\n",
       "  \"user_attributes\": {},\n",
       "  \"owner\": null,\n",
       "  \"polaris_version\": \"dev\",\n",
       "  \"benchmark_name\": \"adme-fang-SOLU-1\",\n",
       "  \"benchmark_owner\": {\n",
       "    \"slug\": \"polaris\",\n",
       "    \"external_id\": \"org_2gtoaJIVrgRqiIR8Qm5BnpFCbxu\",\n",
       "    \"type\": \"organization\"\n",
       "  },\n",
       "  \"github_url\": \"https://github.com/VladVin/bind-them-all\",\n",
       "  \"paper_url\": null,\n",
       "  \"contributors\": null,\n",
       "  \"artifact_id\": null,\n",
       "  \"benchmark_artifact_id\": \"polaris/adme-fang-solu-1\",\n",
       "  \"results\": [\n",
       "    {\n",
       "      \"Test set\": \"test\",\n",
       "      \"Target label\": \"LOG_SOLUBILITY\",\n",
       "      \"Metric\": \"mean_absolute_error\",\n",
       "      \"Score\": 0.4103523524\n",
       "    },\n",
       "    {\n",
       "      \"Test set\": \"test\",\n",
       "      \"Target label\": \"LOG_SOLUBILITY\",\n",
       "      \"Metric\": \"mean_squared_error\",\n",
       "      \"Score\": 0.3444609919\n",
       "    },\n",
       "    {\n",
       "      \"Test set\": \"test\",\n",
       "      \"Target label\": \"LOG_SOLUBILITY\",\n",
       "      \"Metric\": \"r2\",\n",
       "      \"Score\": 0.3646725148\n",
       "    },\n",
       "    {\n",
       "      \"Test set\": \"test\",\n",
       "      \"Target label\": \"LOG_SOLUBILITY\",\n",
       "      \"Metric\": \"spearmanr\",\n",
       "      \"Score\": 0.5689948257\n",
       "    },\n",
       "    {\n",
       "      \"Test set\": \"test\",\n",
       "      \"Target label\": \"LOG_SOLUBILITY\",\n",
       "      \"Metric\": \"pearsonr\",\n",
       "      \"Score\": 0.6253709212\n",
       "    },\n",
       "    {\n",
       "      \"Test set\": \"test\",\n",
       "      \"Target label\": \"LOG_SOLUBILITY\",\n",
       "      \"Metric\": \"explained_var\",\n",
       "      \"Score\": 0.3694326684\n",
       "    }\n",
       "  ]\n",
       "}"
      ]
     },
     "execution_count": 33,
     "metadata": {},
     "output_type": "execute_result"
    }
   ],
   "source": [
    "results = benchmark.evaluate(test_preds)\n",
    "results.name = 'ML4DD-team10'\n",
    "results.description = 'https://docs.google.com/document/d/1sjtQgNrN6tdnXqJiUjNT_nHbRnFH632FqWikktldiM4/edit?usp=sharing'\n",
    "results.github_url = 'https://github.com/VladVin/bind-them-all'\n",
    "# results.contributors = ['vladvin', 'zhwm', 'BenjaminWeiser' 'anoushka2000']\n",
    "results"
   ]
  },
  {
   "cell_type": "code",
   "execution_count": 29,
   "metadata": {},
   "outputs": [
    {
     "name": "stderr",
     "output_type": "stream",
     "text": [
      "\u001b[32m2024-06-21 17:57:48.909\u001b[0m | \u001b[32m\u001b[1mSUCCESS \u001b[0m | \u001b[36mpolaris.hub.client\u001b[0m:\u001b[36mupload_results\u001b[0m:\u001b[36m492\u001b[0m - \u001b[32m\u001b[1mYour result has been successfully uploaded to the Hub. View it here: https://polarishub.io/benchmarks/polaris/adme-fang-SOLU-1/jW64wueaTFK6YhvwHoRdA\u001b[0m\n"
     ]
    }
   ],
   "source": [
    "results.upload_to_hub(owner='vladvin');"
   ]
  }
 ],
 "metadata": {
  "kernelspec": {
   "display_name": "chem",
   "language": "python",
   "name": "python3"
  },
  "language_info": {
   "codemirror_mode": {
    "name": "ipython",
    "version": 3
   },
   "file_extension": ".py",
   "mimetype": "text/x-python",
   "name": "python",
   "nbconvert_exporter": "python",
   "pygments_lexer": "ipython3",
   "version": "3.11.9"
  }
 },
 "nbformat": 4,
 "nbformat_minor": 2
}
