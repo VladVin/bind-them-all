{
 "cells": [
  {
   "cell_type": "code",
   "execution_count": 1,
   "metadata": {},
   "outputs": [
    {
     "name": "stderr",
     "output_type": "stream",
     "text": [
      "[18:58:35] Initializing Normalizer\n"
     ]
    }
   ],
   "source": [
    "import multiprocessing as mp\n",
    "import sys\n",
    "\n",
    "import datamol as dm\n",
    "import lohi_splitter as lohi\n",
    "import numpy as np\n",
    "import matplotlib.pyplot as plt\n",
    "import pandas as pd\n",
    "import polaris as po\n",
    "from rdkit import Chem\n",
    "from rdkit.Chem import AllChem\n",
    "from rdkit.Chem.Scaffolds import MurckoScaffold\n",
    "from rdkit import RDLogger\n",
    "import seaborn as sns\n",
    "from splito._scaffold_split import get_scaffold\n",
    "from tqdm import tqdm\n",
    "\n",
    "sys.path.append('../src')\n",
    "from utils import ECFP_from_smiles, tanimoto_similarity, standardize_smiles"
   ]
  },
  {
   "cell_type": "code",
   "execution_count": 2,
   "metadata": {},
   "outputs": [],
   "source": [
    "logger = RDLogger.logger()\n",
    "logger.setLevel(RDLogger.WARNING)"
   ]
  },
  {
   "cell_type": "code",
   "execution_count": 3,
   "metadata": {},
   "outputs": [
    {
     "name": "stdout",
     "output_type": "stream",
     "text": [
      "You have set \"vladvin\" as the owner\n"
     ]
    }
   ],
   "source": [
    "# @title Set an owner\n",
    "owner = 'vladvin' # @param {type:\"string\"}\n",
    "print(f\"You have set \\\"{owner}\\\" as the owner\")"
   ]
  },
  {
   "cell_type": "code",
   "execution_count": 4,
   "metadata": {},
   "outputs": [
    {
     "name": "stderr",
     "output_type": "stream",
     "text": [
      "\u001b[32m2024-06-20 18:58:37.990\u001b[0m | \u001b[1mINFO    \u001b[0m | \u001b[36mpolaris._artifact\u001b[0m:\u001b[36m_validate_version\u001b[0m:\u001b[36m66\u001b[0m - \u001b[1mThe version of Polaris that was used to create the artifact (0.0.0) is different from the currently installed version of Polaris (dev).\u001b[0m\n",
      "\u001b[32m2024-06-20 18:58:38.005\u001b[0m | \u001b[1mINFO    \u001b[0m | \u001b[36mpolaris._artifact\u001b[0m:\u001b[36m_validate_version\u001b[0m:\u001b[36m66\u001b[0m - \u001b[1mThe version of Polaris that was used to create the artifact (0.0.0) is different from the currently installed version of Polaris (dev).\u001b[0m\n"
     ]
    }
   ],
   "source": [
    "benchmark = po.load_benchmark(\"polaris/adme-fang-solu-1\")"
   ]
  },
  {
   "cell_type": "code",
   "execution_count": 5,
   "metadata": {},
   "outputs": [],
   "source": [
    "train, test = benchmark.get_train_test_split()"
   ]
  },
  {
   "cell_type": "code",
   "execution_count": 6,
   "metadata": {},
   "outputs": [
    {
     "data": {
      "text/plain": [
       "(1578, 400)"
      ]
     },
     "execution_count": 6,
     "metadata": {},
     "output_type": "execute_result"
    }
   ],
   "source": [
    "len(train), len(test)"
   ]
  },
  {
   "cell_type": "code",
   "execution_count": 7,
   "metadata": {},
   "outputs": [],
   "source": [
    "train = pd.DataFrame(train, columns=[\"smiles\", \"logS\"])\n",
    "test = pd.DataFrame(test, columns=[\"smiles\"])"
   ]
  },
  {
   "cell_type": "code",
   "execution_count": 8,
   "metadata": {},
   "outputs": [
    {
     "data": {
      "text/html": [
       "<div>\n",
       "<style scoped>\n",
       "    .dataframe tbody tr th:only-of-type {\n",
       "        vertical-align: middle;\n",
       "    }\n",
       "\n",
       "    .dataframe tbody tr th {\n",
       "        vertical-align: top;\n",
       "    }\n",
       "\n",
       "    .dataframe thead th {\n",
       "        text-align: right;\n",
       "    }\n",
       "</style>\n",
       "<table border=\"1\" class=\"dataframe\">\n",
       "  <thead>\n",
       "    <tr style=\"text-align: right;\">\n",
       "      <th></th>\n",
       "      <th>smiles</th>\n",
       "      <th>logS</th>\n",
       "    </tr>\n",
       "  </thead>\n",
       "  <tbody>\n",
       "    <tr>\n",
       "      <th>0</th>\n",
       "      <td>CCNc1ccnc(N(C)Cc2nc3ccccc3n2C)n1</td>\n",
       "      <td>1.567849</td>\n",
       "    </tr>\n",
       "    <tr>\n",
       "      <th>1</th>\n",
       "      <td>Clc1ccc(C2(c3ccc(-c4cn[nH]c4)cc3)CCNCC2)cc1</td>\n",
       "      <td>1.267172</td>\n",
       "    </tr>\n",
       "    <tr>\n",
       "      <th>2</th>\n",
       "      <td>c1ccc(-n2ncc3c(-n4ccnc4)ncnc32)cc1</td>\n",
       "      <td>0.696356</td>\n",
       "    </tr>\n",
       "    <tr>\n",
       "      <th>3</th>\n",
       "      <td>CCNC(=O)c1ccc(CS(C)(=O)=O)cc1</td>\n",
       "      <td>1.611723</td>\n",
       "    </tr>\n",
       "    <tr>\n",
       "      <th>4</th>\n",
       "      <td>Cc1ccnc(NC(=O)CN(C)C(=O)c2ccc(Cl)cc2)c1</td>\n",
       "      <td>1.801404</td>\n",
       "    </tr>\n",
       "    <tr>\n",
       "      <th>...</th>\n",
       "      <td>...</td>\n",
       "      <td>...</td>\n",
       "    </tr>\n",
       "    <tr>\n",
       "      <th>1573</th>\n",
       "      <td>Cc1c(C(=O)NC2CCN(CC3CCCCC3)CC2)cnn1C</td>\n",
       "      <td>1.689664</td>\n",
       "    </tr>\n",
       "    <tr>\n",
       "      <th>1574</th>\n",
       "      <td>O=C(Nc1ccc(F)cc1F)N1CCn2c1nc1ccccc12</td>\n",
       "      <td>0.785330</td>\n",
       "    </tr>\n",
       "    <tr>\n",
       "      <th>1575</th>\n",
       "      <td>O=c1c2cc(OCc3ccc(Cl)cc3)ccc2nc2n1CCCCC2</td>\n",
       "      <td>-0.420216</td>\n",
       "    </tr>\n",
       "    <tr>\n",
       "      <th>1576</th>\n",
       "      <td>Cc1cn(CCN2CCN(c3ccccc3-c3cc(C#N)cc(C(=O)NCCCN4...</td>\n",
       "      <td>1.501059</td>\n",
       "    </tr>\n",
       "    <tr>\n",
       "      <th>1577</th>\n",
       "      <td>CCOC(=O)N1CCC(C(=O)Nc2cccc(C)c2)CC1</td>\n",
       "      <td>1.750354</td>\n",
       "    </tr>\n",
       "  </tbody>\n",
       "</table>\n",
       "<p>1578 rows × 2 columns</p>\n",
       "</div>"
      ],
      "text/plain": [
       "                                                 smiles      logS\n",
       "0                      CCNc1ccnc(N(C)Cc2nc3ccccc3n2C)n1  1.567849\n",
       "1           Clc1ccc(C2(c3ccc(-c4cn[nH]c4)cc3)CCNCC2)cc1  1.267172\n",
       "2                    c1ccc(-n2ncc3c(-n4ccnc4)ncnc32)cc1  0.696356\n",
       "3                         CCNC(=O)c1ccc(CS(C)(=O)=O)cc1  1.611723\n",
       "4               Cc1ccnc(NC(=O)CN(C)C(=O)c2ccc(Cl)cc2)c1  1.801404\n",
       "...                                                 ...       ...\n",
       "1573               Cc1c(C(=O)NC2CCN(CC3CCCCC3)CC2)cnn1C  1.689664\n",
       "1574               O=C(Nc1ccc(F)cc1F)N1CCn2c1nc1ccccc12  0.785330\n",
       "1575            O=c1c2cc(OCc3ccc(Cl)cc3)ccc2nc2n1CCCCC2 -0.420216\n",
       "1576  Cc1cn(CCN2CCN(c3ccccc3-c3cc(C#N)cc(C(=O)NCCCN4...  1.501059\n",
       "1577                CCOC(=O)N1CCC(C(=O)Nc2cccc(C)c2)CC1  1.750354\n",
       "\n",
       "[1578 rows x 2 columns]"
      ]
     },
     "execution_count": 8,
     "metadata": {},
     "output_type": "execute_result"
    }
   ],
   "source": [
    "train"
   ]
  },
  {
   "cell_type": "code",
   "execution_count": 9,
   "metadata": {},
   "outputs": [
    {
     "data": {
      "text/html": [
       "<div>\n",
       "<style scoped>\n",
       "    .dataframe tbody tr th:only-of-type {\n",
       "        vertical-align: middle;\n",
       "    }\n",
       "\n",
       "    .dataframe tbody tr th {\n",
       "        vertical-align: top;\n",
       "    }\n",
       "\n",
       "    .dataframe thead th {\n",
       "        text-align: right;\n",
       "    }\n",
       "</style>\n",
       "<table border=\"1\" class=\"dataframe\">\n",
       "  <thead>\n",
       "    <tr style=\"text-align: right;\">\n",
       "      <th></th>\n",
       "      <th>smiles</th>\n",
       "    </tr>\n",
       "  </thead>\n",
       "  <tbody>\n",
       "    <tr>\n",
       "      <th>0</th>\n",
       "      <td>CC(=O)Nc1ccnn1C1CCN(Cc2ccccc2C#Cc2ccccc2)CC1</td>\n",
       "    </tr>\n",
       "    <tr>\n",
       "      <th>1</th>\n",
       "      <td>Clc1cccc(Nc2ncnc3[nH]ncc23)c1Cl</td>\n",
       "    </tr>\n",
       "    <tr>\n",
       "      <th>2</th>\n",
       "      <td>NC(=O)Cn1c2ccccc2c2nc3ccccc3nc21</td>\n",
       "    </tr>\n",
       "    <tr>\n",
       "      <th>3</th>\n",
       "      <td>Cc1noc(CCNc2ncnc3ccccc23)n1</td>\n",
       "    </tr>\n",
       "    <tr>\n",
       "      <th>4</th>\n",
       "      <td>CCN1CCN(S(=O)(=O)Cc2ccc(Cl)c(Cl)c2)CC1</td>\n",
       "    </tr>\n",
       "    <tr>\n",
       "      <th>...</th>\n",
       "      <td>...</td>\n",
       "    </tr>\n",
       "    <tr>\n",
       "      <th>395</th>\n",
       "      <td>CN(C)C(=O)Cn1cc(C(=O)O)ccc1=O</td>\n",
       "    </tr>\n",
       "    <tr>\n",
       "      <th>396</th>\n",
       "      <td>Cc1cc(C)cc(C(=O)Nc2nn(C(C)(C)C)cc2C#N)c1</td>\n",
       "    </tr>\n",
       "    <tr>\n",
       "      <th>397</th>\n",
       "      <td>CCN(Cc1ccccc1)C(=O)c1cccnc1N</td>\n",
       "    </tr>\n",
       "    <tr>\n",
       "      <th>398</th>\n",
       "      <td>Cc1cc(F)c(C(=O)Nc2cccc(-c3nncn3C(C)C)n2)cc1-n1...</td>\n",
       "    </tr>\n",
       "    <tr>\n",
       "      <th>399</th>\n",
       "      <td>COc1ccc(C(C)(C)C)cc1NC(=O)C1(C#N)CCCC1</td>\n",
       "    </tr>\n",
       "  </tbody>\n",
       "</table>\n",
       "<p>400 rows × 1 columns</p>\n",
       "</div>"
      ],
      "text/plain": [
       "                                                smiles\n",
       "0         CC(=O)Nc1ccnn1C1CCN(Cc2ccccc2C#Cc2ccccc2)CC1\n",
       "1                      Clc1cccc(Nc2ncnc3[nH]ncc23)c1Cl\n",
       "2                     NC(=O)Cn1c2ccccc2c2nc3ccccc3nc21\n",
       "3                          Cc1noc(CCNc2ncnc3ccccc23)n1\n",
       "4               CCN1CCN(S(=O)(=O)Cc2ccc(Cl)c(Cl)c2)CC1\n",
       "..                                                 ...\n",
       "395                      CN(C)C(=O)Cn1cc(C(=O)O)ccc1=O\n",
       "396           Cc1cc(C)cc(C(=O)Nc2nn(C(C)(C)C)cc2C#N)c1\n",
       "397                       CCN(Cc1ccccc1)C(=O)c1cccnc1N\n",
       "398  Cc1cc(F)c(C(=O)Nc2cccc(-c3nncn3C(C)C)n2)cc1-n1...\n",
       "399             COc1ccc(C(C)(C)C)cc1NC(=O)C1(C#N)CCCC1\n",
       "\n",
       "[400 rows x 1 columns]"
      ]
     },
     "execution_count": 9,
     "metadata": {},
     "output_type": "execute_result"
    }
   ],
   "source": [
    "test"
   ]
  },
  {
   "cell_type": "code",
   "execution_count": 10,
   "metadata": {},
   "outputs": [
    {
     "data": {
      "image/png": "[encoded data removed]",
      "text/plain": [
       "<Figure size 640x480 with 1 Axes>"
      ]
     },
     "metadata": {},
     "output_type": "display_data"
    }
   ],
   "source": [
    "sns.histplot(train, x='logS', bins=30, kde=True);"
   ]
  },
  {
   "cell_type": "code",
   "execution_count": 11,
   "metadata": {},
   "outputs": [],
   "source": [
    "train['S'] = 10**train['logS']"
   ]
  },
  {
   "cell_type": "code",
   "execution_count": 12,
   "metadata": {},
   "outputs": [
    {
     "data": {
      "image/png": "[encoded data removed]",
      "text/plain": [
       "<Figure size 640x480 with 1 Axes>"
      ]
     },
     "metadata": {},
     "output_type": "display_data"
    }
   ],
   "source": [
    "sns.histplot(train, x='S', bins=30, kde=True);"
   ]
  },
  {
   "cell_type": "code",
   "execution_count": 13,
   "metadata": {},
   "outputs": [],
   "source": [
    "# train.to_csv('~/data/train.tsv', sep='\\t', index=False)\n",
    "# test.to_csv('~/data/test.tsv', sep='\\t', index=False)"
   ]
  },
  {
   "cell_type": "code",
   "execution_count": 14,
   "metadata": {},
   "outputs": [
    {
     "name": "stderr",
     "output_type": "stream",
     "text": [
      "100%|██████████| 1578/1578 [00:00<00:00, 1749.95it/s]\n",
      "100%|██████████| 400/400 [00:00<00:00, 1773.80it/s]\n"
     ]
    }
   ],
   "source": [
    "with mp.Pool(mp.cpu_count()) as pool:\n",
    "    train_fps = np.array(list(tqdm(pool.imap(ECFP_from_smiles, train['smiles']), total=len(train))))\n",
    "    test_fps = np.array(list(tqdm(pool.imap(ECFP_from_smiles, test['smiles']), total=len(test))))"
   ]
  },
  {
   "cell_type": "code",
   "execution_count": 15,
   "metadata": {},
   "outputs": [
    {
     "data": {
      "text/plain": [
       "(400,)"
      ]
     },
     "execution_count": 15,
     "metadata": {},
     "output_type": "execute_result"
    }
   ],
   "source": [
    "train2test_dists = tanimoto_similarity(train_fps, test_fps)\n",
    "train2test_dists = train2test_dists.max(axis=0)\n",
    "train2test_dists.shape"
   ]
  },
  {
   "cell_type": "code",
   "execution_count": 16,
   "metadata": {},
   "outputs": [
    {
     "data": {
      "image/png": "[encoded data removed]",
      "text/plain": [
       "<Figure size 640x480 with 1 Axes>"
      ]
     },
     "metadata": {},
     "output_type": "display_data"
    }
   ],
   "source": [
    "sns.histplot(train2test_dists, bins=30);\n",
    "plt.title('Tanimoto similarity between test set and a closest train set molecule');"
   ]
  },
  {
   "cell_type": "code",
   "execution_count": 17,
   "metadata": {},
   "outputs": [],
   "source": [
    "def smiles_to_scaffold_generic(smiles):\n",
    "    mol = Chem.MolFromSmiles(smiles)\n",
    "    scaffold = MurckoScaffold.MakeScaffoldGeneric(mol)\n",
    "    scaffold = MurckoScaffold.GetScaffoldForMol(scaffold)\n",
    "    scaffold_smiles = Chem.MolToSmiles(scaffold)\n",
    "\n",
    "    return scaffold_smiles"
   ]
  },
  {
   "cell_type": "code",
   "execution_count": 18,
   "metadata": {},
   "outputs": [
    {
     "name": "stdout",
     "output_type": "stream",
     "text": [
      "Fraction of multi-component molecules in train set: 0.00\n",
      "Fraction of multi-component molecules in test set: 0.00\n"
     ]
    }
   ],
   "source": [
    "train['is_multi_component'] = train['smiles'].str.contains('.', regex=False).astype(int)\n",
    "test['is_multi_component'] = test['smiles'].str.contains('.', regex=False).astype(int)\n",
    "\n",
    "print(f'Fraction of multi-component molecules in train set: {train[\"is_multi_component\"].mean():.2f}')\n",
    "print(f'Fraction of multi-component molecules in test set: {test[\"is_multi_component\"].mean():.2f}')"
   ]
  },
  {
   "cell_type": "code",
   "execution_count": 19,
   "metadata": {},
   "outputs": [
    {
     "name": "stderr",
     "output_type": "stream",
     "text": [
      "100%|██████████| 1578/1578 [00:01<00:00, 1559.15it/s]\n",
      "100%|██████████| 400/400 [00:00<00:00, 1535.95it/s]\n"
     ]
    }
   ],
   "source": [
    "with mp.Pool(mp.cpu_count()) as pool:\n",
    "    train['smiles_std'] = list(tqdm(pool.imap(standardize_smiles, train['smiles']), total=len(train)))\n",
    "    test['smiles_std'] = list(tqdm(pool.imap(standardize_smiles, test['smiles']), total=len(test)))"
   ]
  },
  {
   "cell_type": "code",
   "execution_count": 20,
   "metadata": {},
   "outputs": [
    {
     "data": {
      "text/plain": [
       "(0, 0)"
      ]
     },
     "execution_count": 20,
     "metadata": {},
     "output_type": "execute_result"
    }
   ],
   "source": [
    "train['smiles_std'].isna().sum(), test['smiles_std'].isna().sum()"
   ]
  },
  {
   "cell_type": "code",
   "execution_count": 21,
   "metadata": {},
   "outputs": [
    {
     "name": "stdout",
     "output_type": "stream",
     "text": [
      "1578 1578\n",
      "400 400\n"
     ]
    }
   ],
   "source": [
    "print(train['smiles'].nunique(), train['smiles_std'].nunique())\n",
    "print(test['smiles'].nunique(), test['smiles_std'].nunique())"
   ]
  },
  {
   "cell_type": "code",
   "execution_count": 22,
   "metadata": {},
   "outputs": [
    {
     "data": {
      "text/plain": [
       "1578"
      ]
     },
     "execution_count": 22,
     "metadata": {},
     "output_type": "execute_result"
    }
   ],
   "source": [
    "(train['smiles'] == train['smiles_std']).sum()"
   ]
  },
  {
   "cell_type": "code",
   "execution_count": 23,
   "metadata": {},
   "outputs": [
    {
     "data": {
      "text/plain": [
       "400"
      ]
     },
     "execution_count": 23,
     "metadata": {},
     "output_type": "execute_result"
    }
   ],
   "source": [
    "(test['smiles'] == test['smiles_std']).sum()"
   ]
  },
  {
   "cell_type": "code",
   "execution_count": 24,
   "metadata": {},
   "outputs": [
    {
     "name": "stderr",
     "output_type": "stream",
     "text": [
      "100%|██████████| 1578/1578 [00:00<00:00, 1986.62it/s]\n",
      "100%|██████████| 400/400 [00:00<00:00, 1977.03it/s]\n"
     ]
    }
   ],
   "source": [
    "with mp.Pool(mp.cpu_count()) as pool:\n",
    "    train['scaffold'] = list(tqdm(pool.imap(smiles_to_scaffold_generic, train['smiles']), total=len(train)))\n",
    "    test['scaffold'] = list(tqdm(pool.imap(smiles_to_scaffold_generic, test['smiles']), total=len(test)))"
   ]
  },
  {
   "cell_type": "code",
   "execution_count": 25,
   "metadata": {},
   "outputs": [
    {
     "data": {
      "text/plain": [
       "(0.4873257287705957, 0.6825)"
      ]
     },
     "execution_count": 25,
     "metadata": {},
     "output_type": "execute_result"
    }
   ],
   "source": [
    "train['scaffold'].nunique() / train['smiles'].nunique(), test['scaffold'].nunique() / test['smiles'].nunique()"
   ]
  },
  {
   "cell_type": "code",
   "execution_count": 34,
   "metadata": {},
   "outputs": [],
   "source": [
    "train = train.drop(['smiles_std', 'is_multi_component'], axis=1).reset_index(drop=True)\n",
    "test = test.drop(['smiles_std', 'is_multi_component'], axis=1).reset_index(drop=True)"
   ]
  },
  {
   "cell_type": "markdown",
   "metadata": {},
   "source": [
    "## Data splits"
   ]
  },
  {
   "cell_type": "code",
   "execution_count": 35,
   "metadata": {},
   "outputs": [
    {
     "name": "stdout",
     "output_type": "stream",
     "text": [
      "Total molecules in the giant component: 307\n",
      "Min train size 214\n",
      "Min test size 52\n",
      "Starting solution of the Linear programming relaxation problem using Primal Simplex\n",
      "\n",
      "Coin0506I Presolve 987 (-554) rows, 554 (0) columns and 2524 (-1108) elements\n",
      "Clp1000I sum of infeasibilities 2.30555e-07 - average 2.33592e-10, 0 fixed columns\n",
      "Coin0506I Presolve 987 (0) rows, 554 (0) columns and 2524 (0) elements\n",
      "Clp0006I 0  Obj 306.81338 Dual inf 87142.194 (554)\n",
      "Clp0029I End of values pass after 554 iterations\n",
      "Clp0014I Perturbing problem by 0.001% of 0.74871962 - largest nonzero change 2.9994078e-05 ( 0.0018300866%) - largest zero change 0\n",
      "Clp0000I Optimal - objective value 307\n",
      "Clp0000I Optimal - objective value 307\n",
      "Clp0000I Optimal - objective value 307\n",
      "Coin0511I After Postsolve, objective 307, infeasibilities - dual 0 (0), primal 0 (0)\n",
      "Clp0032I Optimal objective 307 - 0 iterations time 0.082, Presolve 0.00, Idiot 0.08\n",
      "\n",
      "Starting MIP optimization\n",
      "Cgl0004I processed model has 987 rows, 554 columns (554 integer (554 of which binary)) and 2524 elements\n",
      "Coin3009W Conflict graph built in 0.000 seconds, density: 0.250%\n",
      "Cgl0015I Clique Strengthening extended 0 cliques, 0 were dominated\n",
      "Cbc0045I Nauty: 1978 orbits (36 useful covering 80 variables), 24 generators, group size: 1.27402e+08 - sparse size 11640 - took 0.004353 seconds\n",
      "Cbc0038I Initial state - 554 integers unsatisfied sum - 166.2\n",
      "Cbc0038I Pass   1: suminf.    2.89600 (8) obj. -293.724 iterations 213\n",
      "Cbc0038I Solution found of -293\n",
      "Cbc0038I Before mini branch and bound, 0 integers at bound fixed and 0 continuous\n",
      "Cbc0038I Full problem 987 rows 554 columns, reduced to 987 rows 554 columns - 70 fixed gives 325, 266 - ok now\n",
      "Cbc0038I Full problem 987 rows 554 columns, reduced to 325 rows 266 columns\n",
      "Cbc0038I Mini branch and bound improved solution from -293 to -300 (0.04 seconds)\n",
      "Cbc0038I Round again with cutoff of -301.6\n",
      "Cbc0038I Pass   2: suminf.    4.70529 (12) obj. -301.6 iterations 74\n",
      "Cbc0038I Pass   3: suminf.    4.70529 (12) obj. -301.6 iterations 23\n",
      "Cbc0038I Pass   4: suminf.    0.00000 (0) obj. -302 iterations 267\n",
      "Cbc0038I Solution found of -302\n",
      "Cbc0038I Before mini branch and bound, 0 integers at bound fixed and 0 continuous\n",
      "Cbc0038I Full problem 987 rows 554 columns, reduced to 987 rows 554 columns - 241 fixed gives 62, 45 - ok now\n",
      "Cbc0038I Full problem 987 rows 554 columns, reduced to 53 rows 39 columns\n",
      "Cbc0038I Mini branch and bound did not improve solution (0.06 seconds)\n",
      "Cbc0038I Round again with cutoff of -303.8\n",
      "Cbc0038I Pass   5: suminf.    5.69626 (22) obj. -303.8 iterations 24\n",
      "Cbc0038I Pass   6: suminf.    5.69732 (488) obj. -303.8 iterations 129\n",
      "Cbc0038I Pass   7: suminf.    5.51709 (393) obj. -303.8 iterations 51\n",
      "Cbc0038I Pass   8: suminf.    5.51574 (430) obj. -303.8 iterations 12\n",
      "Cbc0038I Pass   9: suminf.    8.79912 (22) obj. -303.8 iterations 149\n",
      "Cbc0038I Pass  10: suminf.    1.40056 (7) obj. -303.8 iterations 31\n",
      "Cbc0038I Solution found of -304\n",
      "Cbc0038I Before mini branch and bound, 0 integers at bound fixed and 0 continuous\n",
      "Cbc0038I Full problem 987 rows 554 columns, reduced to 987 rows 554 columns - 235 fixed gives 81, 59 - ok now\n",
      "Cbc0038I Full problem 987 rows 554 columns, reduced to 78 rows 58 columns\n",
      "Cbc0038I Mini branch and bound did not improve solution (0.09 seconds)\n",
      "Cbc0038I Round again with cutoff of -305.6\n",
      "Cbc0038I Pass  11: suminf.   18.00490 (440) obj. -305.6 iterations 96\n",
      "Cbc0038I Pass  12: suminf.   18.00490 (440) obj. -305.6 iterations 18\n",
      "Cbc0038I Pass  13: suminf.   18.02717 (495) obj. -305.6 iterations 43\n",
      "Cbc0038I Pass  14: suminf.   18.14743 (495) obj. -305.6 iterations 71\n",
      "Cbc0038I Pass  15: suminf.   18.14743 (495) obj. -305.6 iterations 93\n",
      "Cbc0038I Pass  16: suminf.   20.07407 (154) obj. -305.6 iterations 157\n",
      "Cbc0038I Pass  17: suminf.   18.78007 (53) obj. -305.6 iterations 195\n",
      "Cbc0038I Pass  18: suminf.   16.14399 (438) obj. -305.6 iterations 163\n",
      "Cbc0038I Pass  19: suminf.   16.16415 (493) obj. -305.6 iterations 39\n",
      "Cbc0038I Pass  20: suminf.   16.83021 (411) obj. -305.6 iterations 101\n",
      "Cbc0038I Pass  21: suminf.   17.62503 (116) obj. -305.6 iterations 136\n",
      "Cbc0038I Pass  22: suminf.   18.13614 (493) obj. -305.6 iterations 120\n",
      "Cbc0038I Pass  23: suminf.   18.18795 (493) obj. -305.6 iterations 77\n",
      "Cbc0038I Pass  24: suminf.   18.29043 (493) obj. -305.6 iterations 80\n",
      "Cbc0038I Pass  25: suminf.   18.29043 (493) obj. -305.6 iterations 76\n",
      "Cbc0038I Pass  26: suminf.   18.29043 (493) obj. -305.6 iterations 70\n",
      "Cbc0038I Pass  27: suminf.   18.23938 (493) obj. -305.6 iterations 59\n",
      "Cbc0038I Pass  28: suminf.   18.29043 (493) obj. -305.6 iterations 92\n",
      "Cbc0038I Pass  29: suminf.   18.29043 (493) obj. -305.6 iterations 83\n",
      "Cbc0038I Pass  30: suminf.   18.29043 (493) obj. -305.6 iterations 79\n",
      "Cbc0038I Pass  31: suminf.   18.29043 (493) obj. -305.6 iterations 66\n",
      "Cbc0038I Pass  32: suminf.   18.18795 (493) obj. -305.6 iterations 75\n",
      "Cbc0038I Pass  33: suminf.   18.18795 (493) obj. -305.6 iterations 66\n",
      "Cbc0038I Pass  34: suminf.   18.13614 (493) obj. -305.6 iterations 76\n",
      "Cbc0038I Pass  35: suminf.   18.23938 (493) obj. -305.6 iterations 79\n",
      "Cbc0038I Pass  36: suminf.   18.23938 (493) obj. -305.6 iterations 95\n",
      "Cbc0038I Pass  37: suminf.   18.78007 (53) obj. -305.6 iterations 113\n",
      "Cbc0038I Pass  38: suminf.   21.20371 (53) obj. -305.6 iterations 147\n",
      "Cbc0038I Pass  39: suminf.   20.40357 (51) obj. -305.6 iterations 84\n",
      "Cbc0038I Pass  40: suminf.   18.78007 (53) obj. -305.6 iterations 116\n",
      "Cbc0038I No solution found this major pass\n",
      "Cbc0038I Before mini branch and bound, 0 integers at bound fixed and 0 continuous\n",
      "Cbc0038I Full problem 987 rows 554 columns, reduced to 987 rows 554 columns - 235 fixed gives 81, 59 - ok now\n",
      "Cbc0038I Mini branch and bound did not improve solution (0.30 seconds)\n",
      "Cbc0038I After 0.31 seconds - Feasibility pump exiting with objective of -304 - took 0.27 seconds\n",
      "Cbc0012I Integer solution of -304 found by feasibility pump after 0 iterations and 0 nodes (0.31 seconds)\n",
      "Cbc0030I Thread 0 used 0 times,  waiting to start 0.003310442, 0 cpu time, 0 locks, 0 locked, 0 waiting for locks\n",
      "Cbc0030I Thread 1 used 0 times,  waiting to start 2.3841858e-07, 0 cpu time, 0 locks, 0 locked, 0 waiting for locks\n",
      "Cbc0030I Thread 2 used 0 times,  waiting to start 2.3841858e-07, 0 cpu time, 0 locks, 0 locked, 0 waiting for locks\n",
      "Cbc0030I Thread 3 used 0 times,  waiting to start 2.3841858e-07, 0 cpu time, 0 locks, 0 locked, 0 waiting for locks\n",
      "Cbc0030I Thread 4 used 0 times,  waiting to start 0.00048446655, 0 cpu time, 0 locks, 0 locked, 0 waiting for locks\n",
      "Cbc0030I Thread 5 used 0 times,  waiting to start 0.0077261925, 0 cpu time, 0 locks, 0 locked, 0 waiting for locks\n",
      "Cbc0030I Thread 6 used 0 times,  waiting to start 0.00084209442, 0 cpu time, 0 locks, 0 locked, 0 waiting for locks\n",
      "Cbc0030I Thread 7 used 0 times,  waiting to start 0.0010349751, 0 cpu time, 0 locks, 0 locked, 0 waiting for locks\n",
      "Cbc0030I Main thread 0 waiting for threads,  1 locks, 1.6689301e-06 locked, 4.7683716e-07 waiting for locks\n",
      "Cbc0011I Exiting as integer gap of 3 less than 1e-10 or 10%\n",
      "Cbc0001I Search completed - best objective -304, took 0 iterations and 0 nodes (0.32 seconds)\n",
      "Cbc0035I Maximum depth 0, 0 variables fixed on reduced cost\n",
      "Total time (CPU seconds):       0.31   (Wallclock seconds):       0.33\n",
      "\n",
      "\n",
      "Total partitions: 2\n",
      "Number of discarded molecules: 3\n",
      "Molecules in partition 0 : 1267\n",
      "Molecules in partition 1 : 308\n"
     ]
    }
   ],
   "source": [
    "train_idx, valid_idx = lohi.hi_train_test_split(\n",
    "    train['smiles'],\n",
    "    similarity_threshold=0.4,\n",
    "    train_min_frac=0.70,\n",
    "    test_min_frac=0.17,\n",
    "    coarsening_threshold=0.60,\n",
    "    max_mip_gap=0.1\n",
    ")"
   ]
  },
  {
   "cell_type": "code",
   "execution_count": 36,
   "metadata": {},
   "outputs": [
    {
     "data": {
      "text/plain": [
       "0.8044444444444444"
      ]
     },
     "execution_count": 36,
     "metadata": {},
     "output_type": "execute_result"
    }
   ],
   "source": [
    "len(train_idx) / (len(train_idx) + len(valid_idx))"
   ]
  },
  {
   "cell_type": "code",
   "execution_count": 38,
   "metadata": {},
   "outputs": [],
   "source": [
    "train.iloc[train_idx].to_csv('~/data/splits/hi/train.tsv', sep='\\t', index=False)\n",
    "train.iloc[valid_idx].to_csv('~/data/splits/hi/valid.tsv', sep='\\t', index=False)"
   ]
  }
 ],
 "metadata": {
  "kernelspec": {
   "display_name": "Python 3",
   "language": "python",
   "name": "python3"
  },
  "language_info": {
   "codemirror_mode": {
    "name": "ipython",
    "version": 3
   },
   "file_extension": ".py",
   "mimetype": "text/x-python",
   "name": "python",
   "nbconvert_exporter": "python",
   "pygments_lexer": "ipython3",
   "version": "3.1.undefined"
  }
 },
 "nbformat": 4,
 "nbformat_minor": 2
}
