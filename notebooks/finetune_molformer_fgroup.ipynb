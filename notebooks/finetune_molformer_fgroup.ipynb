{
 "cells": [
  {
   "cell_type": "code",
   "execution_count": 1,
   "metadata": {},
   "outputs": [
    {
     "name": "stderr",
     "output_type": "stream",
     "text": [
      "[14:52:58] Initializing Normalizer\n"
     ]
    }
   ],
   "source": [
    "import copy\n",
    "import multiprocessing as mp\n",
    "from pathlib import Path\n",
    "import random\n",
    "import sys\n",
    "from typing import Optional\n",
    "\n",
    "import datamol as dm\n",
    "import lohi_splitter as lohi\n",
    "import numpy as np\n",
    "import matplotlib.pyplot as plt\n",
    "import pandas as pd\n",
    "import polaris as po\n",
    "from rdkit import Chem\n",
    "from rdkit.Chem import AllChem\n",
    "from rdkit.Chem.Scaffolds import MurckoScaffold\n",
    "from rdkit import RDLogger\n",
    "import seaborn as sns\n",
    "from splito._scaffold_split import get_scaffold\n",
    "from tqdm import tqdm\n",
    "import torch\n",
    "from torch import nn\n",
    "from torch.nn import functional as F\n",
    "from torch.utils.data import Dataset, DataLoader\n",
    "from transformers import AutoModel, AutoTokenizer\n",
    "\n",
    "sys.path.append('../src')\n",
    "from utils import ECFP_from_smiles, tanimoto_similarity, standardize_smiles"
   ]
  },
  {
   "cell_type": "code",
   "execution_count": 2,
   "metadata": {},
   "outputs": [],
   "source": [
    "torch.manual_seed(0)\n",
    "np.random.seed(0)\n",
    "random.seed(0)\n",
    "if torch.cuda.is_available():\n",
    "    torch.cuda.manual_seed(0)\n",
    "    torch.cuda.manual_seed_all(0)\n",
    "    torch.backends.cudnn.deterministic = True\n",
    "    torch.backends.cudnn.benchmark = False"
   ]
  },
  {
   "cell_type": "code",
   "execution_count": 3,
   "metadata": {},
   "outputs": [
    {
     "name": "stderr",
     "output_type": "stream",
     "text": [
      "\u001b[32m2024-06-21 14:52:59.614\u001b[0m | \u001b[1mINFO    \u001b[0m | \u001b[36mpolaris._artifact\u001b[0m:\u001b[36m_validate_version\u001b[0m:\u001b[36m66\u001b[0m - \u001b[1mThe version of Polaris that was used to create the artifact (0.0.0) is different from the currently installed version of Polaris (dev).\u001b[0m\n",
      "\u001b[32m2024-06-21 14:52:59.623\u001b[0m | \u001b[1mINFO    \u001b[0m | \u001b[36mpolaris._artifact\u001b[0m:\u001b[36m_validate_version\u001b[0m:\u001b[36m66\u001b[0m - \u001b[1mThe version of Polaris that was used to create the artifact (0.0.0) is different from the currently installed version of Polaris (dev).\u001b[0m\n"
     ]
    }
   ],
   "source": [
    "benchmark = po.load_benchmark(\"polaris/adme-fang-solu-1\")"
   ]
  },
  {
   "cell_type": "code",
   "execution_count": 4,
   "metadata": {},
   "outputs": [],
   "source": [
    "train = pd.read_csv('~/data/train.tsv', sep='\\t')\n",
    "test = pd.read_csv('~/data/test.tsv', sep='\\t')"
   ]
  },
  {
   "cell_type": "code",
   "execution_count": 5,
   "metadata": {},
   "outputs": [
    {
     "data": {
      "image/png": "[encoded data removed]",
      "text/plain": [
       "<Figure size 640x480 with 1 Axes>"
      ]
     },
     "metadata": {},
     "output_type": "display_data"
    }
   ],
   "source": [
    "y_pred = 0.2 * np.random.randn(len(test)) + 1.5\n",
    "sns.histplot(y_pred, bins=50);"
   ]
  },
  {
   "cell_type": "code",
   "execution_count": 6,
   "metadata": {},
   "outputs": [
    {
     "data": {
      "text/html": [
       "<table border=\"1\"><tr><th>name</th><td>None</td></tr><tr><th>description</th><td></td></tr><tr><th>tags</th><td></td></tr><tr><th>user_attributes</th><td></td></tr><tr><th>owner</th><td>None</td></tr><tr><th>polaris_version</th><td>dev</td></tr><tr><th>benchmark_name</th><td>adme-fang-SOLU-1</td></tr><tr><th>benchmark_owner</th><td><table border=\"1\"><tr><th>slug</th><td>polaris</td></tr><tr><th>external_id</th><td>org_2gtoaJIVrgRqiIR8Qm5BnpFCbxu</td></tr><tr><th>type</th><td>organization</td></tr></table></td></tr><tr><th>github_url</th><td>None</td></tr><tr><th>paper_url</th><td>None</td></tr><tr><th>contributors</th><td>None</td></tr><tr><th>artifact_id</th><td>None</td></tr><tr><th>benchmark_artifact_id</th><td>polaris/adme-fang-solu-1</td></tr><tr><th>results</th><td><table border=\"1\"><thead><tr><th>Test set</th><th>Target label</th><th>Metric</th><th>Score</th></tr></thead><tbody><tr><td>test</td><td>LOG_SOLUBILITY</td><td>mean_absolute_error</td><td>0.5199767201</td></tr><tr><td>test</td><td>LOG_SOLUBILITY</td><td>mean_squared_error</td><td>0.6536645301</td></tr><tr><td>test</td><td>LOG_SOLUBILITY</td><td>r2</td><td>-0.2056257511</td></tr><tr><td>test</td><td>LOG_SOLUBILITY</td><td>spearmanr</td><td>-0.0098429035</td></tr><tr><td>test</td><td>LOG_SOLUBILITY</td><td>pearsonr</td><td>-0.0118886754</td></tr><tr><td>test</td><td>LOG_SOLUBILITY</td><td>explained_var</td><td>-0.0784179963</td></tr></tbody></table></td></tr></table>"
      ],
      "text/plain": [
       "{\n",
       "  \"name\": null,\n",
       "  \"description\": \"\",\n",
       "  \"tags\": [],\n",
       "  \"user_attributes\": {},\n",
       "  \"owner\": null,\n",
       "  \"polaris_version\": \"dev\",\n",
       "  \"benchmark_name\": \"adme-fang-SOLU-1\",\n",
       "  \"benchmark_owner\": {\n",
       "    \"slug\": \"polaris\",\n",
       "    \"external_id\": \"org_2gtoaJIVrgRqiIR8Qm5BnpFCbxu\",\n",
       "    \"type\": \"organization\"\n",
       "  },\n",
       "  \"github_url\": null,\n",
       "  \"paper_url\": null,\n",
       "  \"contributors\": null,\n",
       "  \"artifact_id\": null,\n",
       "  \"benchmark_artifact_id\": \"polaris/adme-fang-solu-1\",\n",
       "  \"results\": [\n",
       "    {\n",
       "      \"Test set\": \"test\",\n",
       "      \"Target label\": \"LOG_SOLUBILITY\",\n",
       "      \"Metric\": \"mean_absolute_error\",\n",
       "      \"Score\": 0.5199767201\n",
       "    },\n",
       "    {\n",
       "      \"Test set\": \"test\",\n",
       "      \"Target label\": \"LOG_SOLUBILITY\",\n",
       "      \"Metric\": \"mean_squared_error\",\n",
       "      \"Score\": 0.6536645301\n",
       "    },\n",
       "    {\n",
       "      \"Test set\": \"test\",\n",
       "      \"Target label\": \"LOG_SOLUBILITY\",\n",
       "      \"Metric\": \"r2\",\n",
       "      \"Score\": -0.2056257511\n",
       "    },\n",
       "    {\n",
       "      \"Test set\": \"test\",\n",
       "      \"Target label\": \"LOG_SOLUBILITY\",\n",
       "      \"Metric\": \"spearmanr\",\n",
       "      \"Score\": -0.0098429035\n",
       "    },\n",
       "    {\n",
       "      \"Test set\": \"test\",\n",
       "      \"Target label\": \"LOG_SOLUBILITY\",\n",
       "      \"Metric\": \"pearsonr\",\n",
       "      \"Score\": -0.0118886754\n",
       "    },\n",
       "    {\n",
       "      \"Test set\": \"test\",\n",
       "      \"Target label\": \"LOG_SOLUBILITY\",\n",
       "      \"Metric\": \"explained_var\",\n",
       "      \"Score\": -0.0784179963\n",
       "    }\n",
       "  ]\n",
       "}"
      ]
     },
     "execution_count": 6,
     "metadata": {},
     "output_type": "execute_result"
    }
   ],
   "source": [
    "results = benchmark.evaluate(y_pred)\n",
    "results"
   ]
  },
  {
   "cell_type": "code",
   "execution_count": 7,
   "metadata": {},
   "outputs": [],
   "source": [
    "import numpy as np\n",
    "import torch\n",
    "from transformers import AutoModel, AutoTokenizer\n",
    "import pandas as pd"
   ]
  },
  {
   "cell_type": "code",
   "execution_count": 8,
   "metadata": {},
   "outputs": [],
   "source": [
    "def renumerate_smiles(smiles):\n",
    "    \"\"\"Perform a randomization of a SMILES string\n",
    "    must be RDKit sanitizable\"\"\"\n",
    "    m = Chem.MolFromSmiles(smiles)\n",
    "    ans = list(range(m.GetNumAtoms()))\n",
    "    np.random.shuffle(ans)\n",
    "    nm = Chem.RenumberAtoms(m,ans)\n",
    "    smiles = Chem.MolToSmiles(nm, canonical=False, isomericSmiles=True)\n",
    "\n",
    "    return smiles\n",
    "\n",
    "class TransformersTokenizer:\n",
    "    def __init__(self, pretrained_model_name_or_path, max_length, padding, truncation, do_lower_case) -> None:\n",
    "        if pretrained_model_name_or_path == 'ibm/MoLFormer-XL-both-10pct':\n",
    "            self.tokenizer = AutoTokenizer.from_pretrained(\n",
    "                pretrained_model_name_or_path, do_lower_case=do_lower_case, trust_remote_code=True\n",
    "            )\n",
    "        else:\n",
    "            print(f'Loading an unknown tokenizer: {pretrained_model_name_or_path}')\n",
    "            self.tokenizer = AutoTokenizer.from_pretrained(pretrained_model_name_or_path, use_fast=False, max_len=128)\n",
    "        self.max_length = max_length\n",
    "        self.padding = padding\n",
    "        self.truncation = truncation\n",
    "\n",
    "    def tokenize(self, seq: str) -> tuple[list[int], list[int]]:\n",
    "        raise NotImplementedError()\n",
    "\n",
    "    @property\n",
    "    def pad_token_id(self) -> int:\n",
    "        return self.tokenizer.pad_token_id\n",
    "\n",
    "\n",
    "class MolTransformersTokenizer(TransformersTokenizer):\n",
    "    def __init__(self, pretrained_model_name_or_path, max_length=128, padding=False, truncation=True) -> None:\n",
    "        super().__init__(\n",
    "            pretrained_model_name_or_path=pretrained_model_name_or_path,\n",
    "            max_length=max_length,\n",
    "            padding=padding,\n",
    "            truncation=truncation,\n",
    "            do_lower_case=False\n",
    "        )\n",
    "\n",
    "    def tokenize(self, smiles: str) -> tuple[list[int], list[int]]:\n",
    "        tokenized = self.tokenizer(smiles, max_length=self.max_length,\n",
    "                                   padding=self.padding, truncation=self.truncation)\n",
    "        \n",
    "        return tokenized['input_ids'], tokenized['attention_mask']\n",
    "\n",
    "\n",
    "class BasicTokenizationDataset(Dataset):\n",
    "    def __init__(self, data: pd.DataFrame, tokenizer: TransformersTokenizer, smiles_col: str,\n",
    "                 randomize_smiles: bool = False, label_col: Optional[str] = None, truncate: bool = False) -> None:\n",
    "        super().__init__()\n",
    "        self.data = data\n",
    "        self.smiles_col = smiles_col\n",
    "        self.randomize_smiles = randomize_smiles\n",
    "        self.label_col = label_col\n",
    "        self.tokenizer = tokenizer\n",
    "        self.truncate = truncate\n",
    "\n",
    "    def __len__(self) -> int:\n",
    "        return len(self.data)\n",
    "\n",
    "    def __getitem__(self, index: int):\n",
    "        smiles = self.data.iloc[index][self.smiles_col]\n",
    "\n",
    "        if self.randomize_smiles and np.random.rand() > 0.5:\n",
    "            smiles = renumerate_smiles(smiles)\n",
    "\n",
    "        if self.label_col is not None:\n",
    "            label = torch.tensor(self.data.iloc[index][self.label_col], dtype=torch.float32)\n",
    "        input_ids, attention_mask = self.tokenizer.tokenize(smiles)\n",
    "\n",
    "        sample = {\n",
    "            'input_ids': input_ids,\n",
    "            'attention_mask': attention_mask\n",
    "        }\n",
    "\n",
    "        if self.label_col is not None:\n",
    "            sample['label'] = label\n",
    "\n",
    "        return sample\n",
    "\n",
    "    def collate_fn(self, samples):\n",
    "        input_ids = [sample['input_ids'] for sample in samples]\n",
    "        attention_mask = [sample['attention_mask'] for sample in samples]\n",
    "        input_ids, attention_mask = BasicTokenizationDataset.pad_sequences(\n",
    "            input_ids, attention_mask, self.tokenizer.pad_token_id\n",
    "        )\n",
    "\n",
    "        batch = {\n",
    "            'input_ids': input_ids,\n",
    "            'attention_mask': attention_mask\n",
    "        }\n",
    "\n",
    "        if self.label_col is not None:\n",
    "            batch['label'] = torch.stack([sample['label'] for sample in samples])\n",
    "\n",
    "        return batch\n",
    "\n",
    "    @staticmethod\n",
    "    def pad_sequences(input_ids, attention_mask, pad_token_id=0):\n",
    "        max_seq_len = max([len(inp) for inp in input_ids])\n",
    "        input_ids_ = torch.full((len(input_ids), max_seq_len), pad_token_id, dtype=torch.long)\n",
    "        attention_mask_ = torch.zeros((len(input_ids), max_seq_len), dtype=torch.bool)\n",
    "        for i, (inp, att_mask) in enumerate(zip(input_ids, attention_mask)):\n",
    "            input_ids_[i, :len(inp)] = torch.tensor(inp, dtype=torch.long)\n",
    "            attention_mask_[i, :len(att_mask)] = torch.tensor(att_mask, dtype=torch.long)\n",
    "\n",
    "        return input_ids_, attention_mask_"
   ]
  },
  {
   "cell_type": "code",
   "execution_count": 9,
   "metadata": {},
   "outputs": [],
   "source": [
    "tokenizer = MolTransformersTokenizer(\"ibm/MoLFormer-XL-both-10pct\", max_length=128)\n",
    "train_dataset = BasicTokenizationDataset(train, tokenizer, randomize_smiles=True, smiles_col='smiles', label_col='logS')\n",
    "test_dataset = BasicTokenizationDataset(test, tokenizer, smiles_col='smiles')\n",
    "train_dataloader = DataLoader(train_dataset, batch_size=32, shuffle=True, collate_fn=train_dataset.collate_fn)\n",
    "test_dataloader = DataLoader(test_dataset, batch_size=32, shuffle=False, collate_fn=test_dataset.collate_fn)"
   ]
  },
  {
   "cell_type": "code",
   "execution_count": 10,
   "metadata": {},
   "outputs": [],
   "source": [
    "class Model(nn.Module):\n",
    "    def __init__(self, model_name_or_path: str, num_classes: int) -> None:\n",
    "        super().__init__()\n",
    "        self.model = AutoModel.from_pretrained(model_name_or_path, trust_remote_code=True)\n",
    "        self.linear1 = nn.Linear(self.model.config.hidden_size, 512)\n",
    "        self.classifier = nn.Linear(512, num_classes)\n",
    "\n",
    "    def forward(self, input_ids, attention_mask):\n",
    "        outputs = self.model(input_ids, attention_mask)\n",
    "        x = outputs.last_hidden_state\n",
    "        input_mask_expanded = attention_mask.unsqueeze(-1).expand(x.size()).type(torch.bool)\n",
    "        x[~input_mask_expanded] = torch.finfo(torch.float16).min  # Set padding tokens to large negative value\n",
    "        feats_max_pool = F.max_pool1d(x.permute(0, 2, 1), kernel_size=x.size(1)).squeeze(-1)\n",
    "\n",
    "        x = self.linear1(feats_max_pool)\n",
    "        logits = self.classifier(x)\n",
    "\n",
    "        return logits"
   ]
  },
  {
   "cell_type": "code",
   "execution_count": null,
   "metadata": {},
   "outputs": [],
   "source": [
    "torch.set_grad_enabled(True)\n",
    "\n",
    "N_EPOCHS = 30\n",
    "train_losses = []\n",
    "best_model = None\n",
    "best_r2 = -np.inf\n",
    "best_results = None\n",
    "best_predictions = None\n",
    "\n",
    "model = Model('ibm/MoLFormer-XL-both-10pct', 1)\n",
    "model = model.cuda()\n",
    "criteria = nn.MSELoss()\n",
    "# criteria = nn.L1Loss()\n",
    "optimizer = torch.optim.Adam(model.parameters(), lr=1e-4)\n",
    "# scheduler = torch.optim.lr_scheduler.OneCycleLR(\n",
    "#     optimizer, max_lr=1e-4, steps_per_epoch=len(train_dataloader), epochs=N_EPOCHS\n",
    "# )\n",
    "\n",
    "for epoch in range(N_EPOCHS):\n",
    "    model.train()\n",
    "    epoch_losses = []\n",
    "    for batch in tqdm(train_dataloader):\n",
    "        batch = {k: v.cuda() for k, v in batch.items()}\n",
    "        output = model(batch['input_ids'], batch['attention_mask']).squeeze(-1)\n",
    "        loss = criteria(output, batch['label'])\n",
    "\n",
    "        optimizer.zero_grad()\n",
    "        loss.backward()\n",
    "        optimizer.step()\n",
    "        # scheduler.step()\n",
    "        \n",
    "        loss_val = loss.item()\n",
    "        train_losses.append(loss_val)\n",
    "        epoch_losses.append(loss_val)\n",
    "    \n",
    "    print(f'Epoch: {epoch}, Train Loss: {np.mean(epoch_losses)}')\n",
    "    epoch_losses = []\n",
    "\n",
    "    model.eval()\n",
    "    predictions = []\n",
    "    for batch in test_dataloader:\n",
    "        batch = {k: v.cuda() for k, v in batch.items()}\n",
    "        with torch.no_grad():\n",
    "            output = model(batch['input_ids'], batch['attention_mask']).squeeze(-1)\n",
    "        predictions.append(output.detach().cpu().numpy())\n",
    "    predictions = np.concatenate(predictions)\n",
    "    \n",
    "    results = benchmark.evaluate(predictions)\n",
    "    metrics = results.results\n",
    "    print(metrics)\n",
    "\n",
    "    r2 = metrics['Score'].iloc[2]\n",
    "\n",
    "    if r2 > best_r2:\n",
    "        best_r2 = r2\n",
    "        best_model = copy.deepcopy(model.state_dict())\n",
    "        best_results = results\n",
    "        best_predictions = predictions"
   ]
  },
  {
   "cell_type": "code",
   "execution_count": null,
   "metadata": {},
   "outputs": [],
   "source": [
    "best_results"
   ]
  },
  {
   "cell_type": "code",
   "execution_count": null,
   "metadata": {},
   "outputs": [],
   "source": [
    "model = Model('ibm/MoLFormer-XL-both-10pct', 1)\n",
    "model = model.cuda()\n",
    "model.load_state_dict(best_model)\n",
    "model.eval()\n",
    "test_dataloader = DataLoader(test_dataset, batch_size=32, shuffle=False, collate_fn=test_dataset.collate_fn)\n",
    "predictions = []\n",
    "for batch in test_dataloader:\n",
    "    batch = {k: v.cuda() for k, v in batch.items()}\n",
    "    with torch.no_grad():\n",
    "        output = model(batch['input_ids'], batch['attention_mask']).squeeze(-1)\n",
    "    predictions.append(output.detach().cpu().numpy())\n",
    "predictions = np.concatenate(predictions)\n",
    "\n",
    "results = benchmark.evaluate(predictions)\n",
    "metrics = results.results\n",
    "print(metrics)"
   ]
  },
  {
   "cell_type": "code",
   "execution_count": 69,
   "metadata": {},
   "outputs": [
    {
     "name": "stderr",
     "output_type": "stream",
     "text": [
      "\u001b[32m2024-06-21 14:42:28.963\u001b[0m | \u001b[1mINFO    \u001b[0m | \u001b[36mpolaris._artifact\u001b[0m:\u001b[36m_validate_version\u001b[0m:\u001b[36m66\u001b[0m - \u001b[1mThe version of Polaris that was used to create the artifact (0.0.0) is different from the currently installed version of Polaris (dev).\u001b[0m\n",
      "\u001b[32m2024-06-21 14:42:28.976\u001b[0m | \u001b[1mINFO    \u001b[0m | \u001b[36mpolaris._artifact\u001b[0m:\u001b[36m_validate_version\u001b[0m:\u001b[36m66\u001b[0m - \u001b[1mThe version of Polaris that was used to create the artifact (0.0.0) is different from the currently installed version of Polaris (dev).\u001b[0m\n"
     ]
    },
    {
     "data": {
      "text/html": [
       "<table border=\"1\"><tr><th>name</th><td>it-works-now</td></tr><tr><th>description</th><td>We asked LLM to predict solubility</td></tr><tr><th>tags</th><td></td></tr><tr><th>user_attributes</th><td></td></tr><tr><th>owner</th><td>None</td></tr><tr><th>polaris_version</th><td>dev</td></tr><tr><th>benchmark_name</th><td>adme-fang-SOLU-1</td></tr><tr><th>benchmark_owner</th><td><table border=\"1\"><tr><th>slug</th><td>polaris</td></tr><tr><th>external_id</th><td>org_2gtoaJIVrgRqiIR8Qm5BnpFCbxu</td></tr><tr><th>type</th><td>organization</td></tr></table></td></tr><tr><th>github_url</th><td>None</td></tr><tr><th>paper_url</th><td>None</td></tr><tr><th>contributors</th><td>None</td></tr><tr><th>artifact_id</th><td>None</td></tr><tr><th>benchmark_artifact_id</th><td>polaris/adme-fang-solu-1</td></tr><tr><th>results</th><td><table border=\"1\"><thead><tr><th>Test set</th><th>Target label</th><th>Metric</th><th>Score</th></tr></thead><tbody><tr><td>test</td><td>LOG_SOLUBILITY</td><td>mean_absolute_error</td><td>0.37792651</td></tr><tr><td>test</td><td>LOG_SOLUBILITY</td><td>mean_squared_error</td><td>0.3142760628</td></tr><tr><td>test</td><td>LOG_SOLUBILITY</td><td>r2</td><td>0.4203459163</td></tr><tr><td>test</td><td>LOG_SOLUBILITY</td><td>spearmanr</td><td>0.5743050623</td></tr><tr><td>test</td><td>LOG_SOLUBILITY</td><td>pearsonr</td><td>0.6693674969</td></tr><tr><td>test</td><td>LOG_SOLUBILITY</td><td>explained_var</td><td>0.4304849516</td></tr></tbody></table></td></tr></table>"
      ],
      "text/plain": [
       "{\n",
       "  \"name\": \"it-works-now\",\n",
       "  \"description\": \"We asked LLM to predict solubility\",\n",
       "  \"tags\": [],\n",
       "  \"user_attributes\": {},\n",
       "  \"owner\": null,\n",
       "  \"polaris_version\": \"dev\",\n",
       "  \"benchmark_name\": \"adme-fang-SOLU-1\",\n",
       "  \"benchmark_owner\": {\n",
       "    \"slug\": \"polaris\",\n",
       "    \"external_id\": \"org_2gtoaJIVrgRqiIR8Qm5BnpFCbxu\",\n",
       "    \"type\": \"organization\"\n",
       "  },\n",
       "  \"github_url\": null,\n",
       "  \"paper_url\": null,\n",
       "  \"contributors\": null,\n",
       "  \"artifact_id\": null,\n",
       "  \"benchmark_artifact_id\": \"polaris/adme-fang-solu-1\",\n",
       "  \"results\": [\n",
       "    {\n",
       "      \"Test set\": \"test\",\n",
       "      \"Target label\": \"LOG_SOLUBILITY\",\n",
       "      \"Metric\": \"mean_absolute_error\",\n",
       "      \"Score\": 0.37792651\n",
       "    },\n",
       "    {\n",
       "      \"Test set\": \"test\",\n",
       "      \"Target label\": \"LOG_SOLUBILITY\",\n",
       "      \"Metric\": \"mean_squared_error\",\n",
       "      \"Score\": 0.3142760628\n",
       "    },\n",
       "    {\n",
       "      \"Test set\": \"test\",\n",
       "      \"Target label\": \"LOG_SOLUBILITY\",\n",
       "      \"Metric\": \"r2\",\n",
       "      \"Score\": 0.4203459163\n",
       "    },\n",
       "    {\n",
       "      \"Test set\": \"test\",\n",
       "      \"Target label\": \"LOG_SOLUBILITY\",\n",
       "      \"Metric\": \"spearmanr\",\n",
       "      \"Score\": 0.5743050623\n",
       "    },\n",
       "    {\n",
       "      \"Test set\": \"test\",\n",
       "      \"Target label\": \"LOG_SOLUBILITY\",\n",
       "      \"Metric\": \"pearsonr\",\n",
       "      \"Score\": 0.6693674969\n",
       "    },\n",
       "    {\n",
       "      \"Test set\": \"test\",\n",
       "      \"Target label\": \"LOG_SOLUBILITY\",\n",
       "      \"Metric\": \"explained_var\",\n",
       "      \"Score\": 0.4304849516\n",
       "    }\n",
       "  ]\n",
       "}"
      ]
     },
     "execution_count": 69,
     "metadata": {},
     "output_type": "execute_result"
    }
   ],
   "source": [
    "benchmark = po.load_benchmark(\"polaris/adme-fang-solu-1\")\n",
    "results = benchmark.evaluate(best_predictions)\n",
    "results.name = 'it-works-now'\n",
    "results.description = 'We asked LLM to predict solubility'\n",
    "results"
   ]
  },
  {
   "cell_type": "code",
   "execution_count": 70,
   "metadata": {},
   "outputs": [
    {
     "name": "stderr",
     "output_type": "stream",
     "text": [
      "\u001b[32m2024-06-21 14:42:31.035\u001b[0m | \u001b[32m\u001b[1mSUCCESS \u001b[0m | \u001b[36mpolaris.hub.client\u001b[0m:\u001b[36mupload_results\u001b[0m:\u001b[36m492\u001b[0m - \u001b[32m\u001b[1mYour result has been successfully uploaded to the Hub. View it here: https://polarishub.io/benchmarks/polaris/adme-fang-SOLU-1/VpFQiX34TErHXhN7QRkQC\u001b[0m\n"
     ]
    }
   ],
   "source": [
    "results.upload_to_hub(owner='vladvin');"
   ]
  }
 ],
 "metadata": {
  "kernelspec": {
   "display_name": "chem",
   "language": "python",
   "name": "python3"
  },
  "language_info": {
   "codemirror_mode": {
    "name": "ipython",
    "version": 3
   },
   "file_extension": ".py",
   "mimetype": "text/x-python",
   "name": "python",
   "nbconvert_exporter": "python",
   "pygments_lexer": "ipython3",
   "version": "3.11.9"
  }
 },
 "nbformat": 4,
 "nbformat_minor": 2
}
