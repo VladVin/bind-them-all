{
 "cells": [
  {
   "cell_type": "code",
   "execution_count": 1,
   "metadata": {},
   "outputs": [
    {
     "name": "stderr",
     "output_type": "stream",
     "text": [
      "[20:23:00] Initializing Normalizer\n"
     ]
    }
   ],
   "source": [
    "import multiprocessing as mp\n",
    "import sys\n",
    "\n",
    "import datamol as dm\n",
    "import lohi_splitter as lohi\n",
    "import numpy as np\n",
    "import matplotlib.pyplot as plt\n",
    "import pandas as pd\n",
    "import polaris as po\n",
    "from rdkit import Chem\n",
    "from rdkit.Chem import AllChem\n",
    "from rdkit.Chem.Scaffolds import MurckoScaffold\n",
    "from rdkit import RDLogger\n",
    "import seaborn as sns\n",
    "from splito._scaffold_split import get_scaffold\n",
    "from tqdm import tqdm\n",
    "\n",
    "sys.path.append('../src')\n",
    "from utils import ECFP_from_smiles, tanimoto_similarity, standardize_smiles"
   ]
  },
  {
   "cell_type": "code",
   "execution_count": 2,
   "metadata": {},
   "outputs": [],
   "source": [
    "logger = RDLogger.logger()\n",
    "logger.setLevel(RDLogger.WARNING)"
   ]
  },
  {
   "cell_type": "code",
   "execution_count": 3,
   "metadata": {},
   "outputs": [
    {
     "data": {
      "text/html": [
       "<div>\n",
       "<style scoped>\n",
       "    .dataframe tbody tr th:only-of-type {\n",
       "        vertical-align: middle;\n",
       "    }\n",
       "\n",
       "    .dataframe tbody tr th {\n",
       "        vertical-align: top;\n",
       "    }\n",
       "\n",
       "    .dataframe thead th {\n",
       "        text-align: right;\n",
       "    }\n",
       "</style>\n",
       "<table border=\"1\" class=\"dataframe\">\n",
       "  <thead>\n",
       "    <tr style=\"text-align: right;\">\n",
       "      <th></th>\n",
       "      <th>ID</th>\n",
       "      <th>Name</th>\n",
       "      <th>InChI</th>\n",
       "      <th>InChIKey</th>\n",
       "      <th>SMILES</th>\n",
       "      <th>Solubility</th>\n",
       "      <th>SD</th>\n",
       "      <th>Ocurrences</th>\n",
       "      <th>Group</th>\n",
       "      <th>MolWt</th>\n",
       "      <th>...</th>\n",
       "      <th>NumValenceElectrons</th>\n",
       "      <th>NumAromaticRings</th>\n",
       "      <th>NumSaturatedRings</th>\n",
       "      <th>NumAliphaticRings</th>\n",
       "      <th>RingCount</th>\n",
       "      <th>TPSA</th>\n",
       "      <th>LabuteASA</th>\n",
       "      <th>BalabanJ</th>\n",
       "      <th>BertzCT</th>\n",
       "      <th>Cleaned_SMILES</th>\n",
       "    </tr>\n",
       "  </thead>\n",
       "  <tbody>\n",
       "    <tr>\n",
       "      <th>0</th>\n",
       "      <td>A-4</td>\n",
       "      <td>Benzo[cd]indol-2(1H)-one</td>\n",
       "      <td>InChI=1S/C11H7NO/c13-11-8-5-1-3-7-4-2-6-9(12-1...</td>\n",
       "      <td>GPYLCFQEKPUWLD-UHFFFAOYSA-N</td>\n",
       "      <td>O=C1Nc2cccc3cccc1c23</td>\n",
       "      <td>-3.254767</td>\n",
       "      <td>0.000000</td>\n",
       "      <td>1</td>\n",
       "      <td>G1</td>\n",
       "      <td>169.183</td>\n",
       "      <td>...</td>\n",
       "      <td>62</td>\n",
       "      <td>2</td>\n",
       "      <td>0</td>\n",
       "      <td>1</td>\n",
       "      <td>3</td>\n",
       "      <td>29.10</td>\n",
       "      <td>75.183563</td>\n",
       "      <td>2.582996</td>\n",
       "      <td>511.229248</td>\n",
       "      <td>O=C1Nc2cccc3cccc1c23</td>\n",
       "    </tr>\n",
       "    <tr>\n",
       "      <th>1</th>\n",
       "      <td>A-5</td>\n",
       "      <td>4-chlorobenzaldehyde</td>\n",
       "      <td>InChI=1S/C7H5ClO/c8-7-3-1-6(5-9)2-4-7/h1-5H</td>\n",
       "      <td>AVPYQKSLYISFPO-UHFFFAOYSA-N</td>\n",
       "      <td>Clc1ccc(C=O)cc1</td>\n",
       "      <td>-2.177078</td>\n",
       "      <td>0.000000</td>\n",
       "      <td>1</td>\n",
       "      <td>G1</td>\n",
       "      <td>140.569</td>\n",
       "      <td>...</td>\n",
       "      <td>46</td>\n",
       "      <td>1</td>\n",
       "      <td>0</td>\n",
       "      <td>0</td>\n",
       "      <td>1</td>\n",
       "      <td>17.07</td>\n",
       "      <td>58.261134</td>\n",
       "      <td>3.009782</td>\n",
       "      <td>202.661065</td>\n",
       "      <td>O=Cc1ccc(Cl)cc1</td>\n",
       "    </tr>\n",
       "    <tr>\n",
       "      <th>2</th>\n",
       "      <td>A-9</td>\n",
       "      <td>4-({4-[bis(oxiran-2-ylmethyl)amino]phenyl}meth...</td>\n",
       "      <td>InChI=1S/C25H30N2O4/c1-5-20(26(10-22-14-28-22)...</td>\n",
       "      <td>FAUAZXVRLVIARB-UHFFFAOYSA-N</td>\n",
       "      <td>C1OC1CN(CC2CO2)c3ccc(Cc4ccc(cc4)N(CC5CO5)CC6CO...</td>\n",
       "      <td>-4.662065</td>\n",
       "      <td>0.000000</td>\n",
       "      <td>1</td>\n",
       "      <td>G1</td>\n",
       "      <td>422.525</td>\n",
       "      <td>...</td>\n",
       "      <td>164</td>\n",
       "      <td>2</td>\n",
       "      <td>4</td>\n",
       "      <td>4</td>\n",
       "      <td>6</td>\n",
       "      <td>56.60</td>\n",
       "      <td>183.183268</td>\n",
       "      <td>1.084427</td>\n",
       "      <td>769.899934</td>\n",
       "      <td>c1cc(N(CC2CO2)CC2CO2)ccc1Cc1ccc(N(CC2CO2)CC2CO...</td>\n",
       "    </tr>\n",
       "    <tr>\n",
       "      <th>3</th>\n",
       "      <td>A-10</td>\n",
       "      <td>vinyltoluene</td>\n",
       "      <td>InChI=1S/C9H10/c1-3-9-6-4-5-8(2)7-9/h3-7H,1H2,2H3</td>\n",
       "      <td>JZHGRUMIRATHIU-UHFFFAOYSA-N</td>\n",
       "      <td>Cc1cccc(C=C)c1</td>\n",
       "      <td>-3.123150</td>\n",
       "      <td>0.000000</td>\n",
       "      <td>1</td>\n",
       "      <td>G1</td>\n",
       "      <td>118.179</td>\n",
       "      <td>...</td>\n",
       "      <td>46</td>\n",
       "      <td>1</td>\n",
       "      <td>0</td>\n",
       "      <td>0</td>\n",
       "      <td>1</td>\n",
       "      <td>0.00</td>\n",
       "      <td>55.836626</td>\n",
       "      <td>3.070761</td>\n",
       "      <td>211.033224</td>\n",
       "      <td>C=Cc1cccc(C)c1</td>\n",
       "    </tr>\n",
       "    <tr>\n",
       "      <th>4</th>\n",
       "      <td>A-11</td>\n",
       "      <td>3-(3-ethylcyclopentyl)propanoic acid</td>\n",
       "      <td>InChI=1S/C10H18O2/c1-2-8-3-4-9(7-8)5-6-10(11)1...</td>\n",
       "      <td>WVRFSLWCFASCIS-UHFFFAOYSA-N</td>\n",
       "      <td>CCC1CCC(CCC(O)=O)C1</td>\n",
       "      <td>-3.286116</td>\n",
       "      <td>0.000000</td>\n",
       "      <td>1</td>\n",
       "      <td>G1</td>\n",
       "      <td>170.252</td>\n",
       "      <td>...</td>\n",
       "      <td>70</td>\n",
       "      <td>0</td>\n",
       "      <td>1</td>\n",
       "      <td>1</td>\n",
       "      <td>1</td>\n",
       "      <td>37.30</td>\n",
       "      <td>73.973655</td>\n",
       "      <td>2.145839</td>\n",
       "      <td>153.917569</td>\n",
       "      <td>CCC1CCC(CCC(=O)O)C1</td>\n",
       "    </tr>\n",
       "    <tr>\n",
       "      <th>...</th>\n",
       "      <td>...</td>\n",
       "      <td>...</td>\n",
       "      <td>...</td>\n",
       "      <td>...</td>\n",
       "      <td>...</td>\n",
       "      <td>...</td>\n",
       "      <td>...</td>\n",
       "      <td>...</td>\n",
       "      <td>...</td>\n",
       "      <td>...</td>\n",
       "      <td>...</td>\n",
       "      <td>...</td>\n",
       "      <td>...</td>\n",
       "      <td>...</td>\n",
       "      <td>...</td>\n",
       "      <td>...</td>\n",
       "      <td>...</td>\n",
       "      <td>...</td>\n",
       "      <td>...</td>\n",
       "      <td>...</td>\n",
       "      <td>...</td>\n",
       "    </tr>\n",
       "    <tr>\n",
       "      <th>8905</th>\n",
       "      <td>I-84</td>\n",
       "      <td>tetracaine</td>\n",
       "      <td>InChI=1S/C15H24N2O2/c1-4-5-10-16-14-8-6-13(7-9...</td>\n",
       "      <td>GKCBAIGFKIBETG-UHFFFAOYSA-N</td>\n",
       "      <td>C(c1ccc(cc1)NCCCC)(=O)OCCN(C)C</td>\n",
       "      <td>-3.010000</td>\n",
       "      <td>0.000000</td>\n",
       "      <td>1</td>\n",
       "      <td>G1</td>\n",
       "      <td>264.369</td>\n",
       "      <td>...</td>\n",
       "      <td>106</td>\n",
       "      <td>1</td>\n",
       "      <td>0</td>\n",
       "      <td>0</td>\n",
       "      <td>1</td>\n",
       "      <td>41.57</td>\n",
       "      <td>115.300645</td>\n",
       "      <td>2.394548</td>\n",
       "      <td>374.236894</td>\n",
       "      <td>CCCCNc1ccc(C(=O)OCCN(C)C)cc1</td>\n",
       "    </tr>\n",
       "    <tr>\n",
       "      <th>8906</th>\n",
       "      <td>I-85</td>\n",
       "      <td>tetracycline</td>\n",
       "      <td>InChI=1S/C22H24N2O8/c1-21(31)8-5-4-6-11(25)12(...</td>\n",
       "      <td>OFVLGDICTFRJMM-WESIUVDSSA-N</td>\n",
       "      <td>OC1=C(C(C2=C(O)[C@@](C(C(C(N)=O)=C(O)[C@H]3N(C...</td>\n",
       "      <td>-2.930000</td>\n",
       "      <td>0.000000</td>\n",
       "      <td>1</td>\n",
       "      <td>G1</td>\n",
       "      <td>444.440</td>\n",
       "      <td>...</td>\n",
       "      <td>170</td>\n",
       "      <td>1</td>\n",
       "      <td>0</td>\n",
       "      <td>3</td>\n",
       "      <td>4</td>\n",
       "      <td>181.62</td>\n",
       "      <td>182.429237</td>\n",
       "      <td>2.047922</td>\n",
       "      <td>1148.584975</td>\n",
       "      <td>CN(C)[C@@H]1C(O)=C(C(N)=O)C(=O)[C@@]2(O)C(O)=C...</td>\n",
       "    </tr>\n",
       "    <tr>\n",
       "      <th>8907</th>\n",
       "      <td>I-86</td>\n",
       "      <td>thymol</td>\n",
       "      <td>InChI=1S/C10H14O/c1-7(2)9-5-4-8(3)6-10(9)11/h4...</td>\n",
       "      <td>MGSRCZKZVOBKFT-UHFFFAOYSA-N</td>\n",
       "      <td>c1(cc(ccc1C(C)C)C)O</td>\n",
       "      <td>-2.190000</td>\n",
       "      <td>0.019222</td>\n",
       "      <td>3</td>\n",
       "      <td>G5</td>\n",
       "      <td>150.221</td>\n",
       "      <td>...</td>\n",
       "      <td>60</td>\n",
       "      <td>1</td>\n",
       "      <td>0</td>\n",
       "      <td>0</td>\n",
       "      <td>1</td>\n",
       "      <td>20.23</td>\n",
       "      <td>67.685405</td>\n",
       "      <td>3.092720</td>\n",
       "      <td>251.049732</td>\n",
       "      <td>Cc1ccc(C(C)C)c(O)c1</td>\n",
       "    </tr>\n",
       "    <tr>\n",
       "      <th>8908</th>\n",
       "      <td>I-93</td>\n",
       "      <td>verapamil</td>\n",
       "      <td>InChI=1S/C27H38N2O4/c1-20(2)27(19-28,22-10-12-...</td>\n",
       "      <td>SGTNSNPWRIOYBX-UHFFFAOYSA-N</td>\n",
       "      <td>COc1ccc(CCN(C)CCCC(C#N)(C(C)C)c2ccc(OC)c(OC)c2...</td>\n",
       "      <td>-3.980000</td>\n",
       "      <td>0.000000</td>\n",
       "      <td>1</td>\n",
       "      <td>G1</td>\n",
       "      <td>454.611</td>\n",
       "      <td>...</td>\n",
       "      <td>180</td>\n",
       "      <td>2</td>\n",
       "      <td>0</td>\n",
       "      <td>0</td>\n",
       "      <td>2</td>\n",
       "      <td>63.95</td>\n",
       "      <td>198.569223</td>\n",
       "      <td>2.023333</td>\n",
       "      <td>938.203977</td>\n",
       "      <td>COc1ccc(CCN(C)CCCC(C#N)(c2ccc(OC)c(OC)c2)C(C)C...</td>\n",
       "    </tr>\n",
       "    <tr>\n",
       "      <th>8909</th>\n",
       "      <td>I-94</td>\n",
       "      <td>warfarin</td>\n",
       "      <td>InChI=1S/C19H16O4/c1-12(20)11-15(13-7-3-2-4-8-...</td>\n",
       "      <td>PJVWKTKQMONHTI-UHFFFAOYSA-N</td>\n",
       "      <td>CC(=O)CC(c1ccccc1)c1c(O)c2ccccc2oc1=O</td>\n",
       "      <td>-4.780000</td>\n",
       "      <td>0.450506</td>\n",
       "      <td>3</td>\n",
       "      <td>G5</td>\n",
       "      <td>308.333</td>\n",
       "      <td>...</td>\n",
       "      <td>116</td>\n",
       "      <td>3</td>\n",
       "      <td>0</td>\n",
       "      <td>0</td>\n",
       "      <td>3</td>\n",
       "      <td>67.51</td>\n",
       "      <td>132.552025</td>\n",
       "      <td>2.258072</td>\n",
       "      <td>909.550973</td>\n",
       "      <td>CC(=O)CC(c1ccccc1)c1c(O)c2ccccc2oc1=O</td>\n",
       "    </tr>\n",
       "  </tbody>\n",
       "</table>\n",
       "<p>8910 rows × 27 columns</p>\n",
       "</div>"
      ],
      "text/plain": [
       "        ID                                               Name  \\\n",
       "0      A-4                           Benzo[cd]indol-2(1H)-one   \n",
       "1      A-5                               4-chlorobenzaldehyde   \n",
       "2      A-9  4-({4-[bis(oxiran-2-ylmethyl)amino]phenyl}meth...   \n",
       "3     A-10                                       vinyltoluene   \n",
       "4     A-11               3-(3-ethylcyclopentyl)propanoic acid   \n",
       "...    ...                                                ...   \n",
       "8905  I-84                                         tetracaine   \n",
       "8906  I-85                                       tetracycline   \n",
       "8907  I-86                                             thymol   \n",
       "8908  I-93                                          verapamil   \n",
       "8909  I-94                                           warfarin   \n",
       "\n",
       "                                                  InChI  \\\n",
       "0     InChI=1S/C11H7NO/c13-11-8-5-1-3-7-4-2-6-9(12-1...   \n",
       "1           InChI=1S/C7H5ClO/c8-7-3-1-6(5-9)2-4-7/h1-5H   \n",
       "2     InChI=1S/C25H30N2O4/c1-5-20(26(10-22-14-28-22)...   \n",
       "3     InChI=1S/C9H10/c1-3-9-6-4-5-8(2)7-9/h3-7H,1H2,2H3   \n",
       "4     InChI=1S/C10H18O2/c1-2-8-3-4-9(7-8)5-6-10(11)1...   \n",
       "...                                                 ...   \n",
       "8905  InChI=1S/C15H24N2O2/c1-4-5-10-16-14-8-6-13(7-9...   \n",
       "8906  InChI=1S/C22H24N2O8/c1-21(31)8-5-4-6-11(25)12(...   \n",
       "8907  InChI=1S/C10H14O/c1-7(2)9-5-4-8(3)6-10(9)11/h4...   \n",
       "8908  InChI=1S/C27H38N2O4/c1-20(2)27(19-28,22-10-12-...   \n",
       "8909  InChI=1S/C19H16O4/c1-12(20)11-15(13-7-3-2-4-8-...   \n",
       "\n",
       "                         InChIKey  \\\n",
       "0     GPYLCFQEKPUWLD-UHFFFAOYSA-N   \n",
       "1     AVPYQKSLYISFPO-UHFFFAOYSA-N   \n",
       "2     FAUAZXVRLVIARB-UHFFFAOYSA-N   \n",
       "3     JZHGRUMIRATHIU-UHFFFAOYSA-N   \n",
       "4     WVRFSLWCFASCIS-UHFFFAOYSA-N   \n",
       "...                           ...   \n",
       "8905  GKCBAIGFKIBETG-UHFFFAOYSA-N   \n",
       "8906  OFVLGDICTFRJMM-WESIUVDSSA-N   \n",
       "8907  MGSRCZKZVOBKFT-UHFFFAOYSA-N   \n",
       "8908  SGTNSNPWRIOYBX-UHFFFAOYSA-N   \n",
       "8909  PJVWKTKQMONHTI-UHFFFAOYSA-N   \n",
       "\n",
       "                                                 SMILES  Solubility        SD  \\\n",
       "0                                  O=C1Nc2cccc3cccc1c23   -3.254767  0.000000   \n",
       "1                                       Clc1ccc(C=O)cc1   -2.177078  0.000000   \n",
       "2     C1OC1CN(CC2CO2)c3ccc(Cc4ccc(cc4)N(CC5CO5)CC6CO...   -4.662065  0.000000   \n",
       "3                                        Cc1cccc(C=C)c1   -3.123150  0.000000   \n",
       "4                                   CCC1CCC(CCC(O)=O)C1   -3.286116  0.000000   \n",
       "...                                                 ...         ...       ...   \n",
       "8905                     C(c1ccc(cc1)NCCCC)(=O)OCCN(C)C   -3.010000  0.000000   \n",
       "8906  OC1=C(C(C2=C(O)[C@@](C(C(C(N)=O)=C(O)[C@H]3N(C...   -2.930000  0.000000   \n",
       "8907                                c1(cc(ccc1C(C)C)C)O   -2.190000  0.019222   \n",
       "8908  COc1ccc(CCN(C)CCCC(C#N)(C(C)C)c2ccc(OC)c(OC)c2...   -3.980000  0.000000   \n",
       "8909              CC(=O)CC(c1ccccc1)c1c(O)c2ccccc2oc1=O   -4.780000  0.450506   \n",
       "\n",
       "      Ocurrences Group    MolWt  ...  NumValenceElectrons  NumAromaticRings  \\\n",
       "0              1    G1  169.183  ...                   62                 2   \n",
       "1              1    G1  140.569  ...                   46                 1   \n",
       "2              1    G1  422.525  ...                  164                 2   \n",
       "3              1    G1  118.179  ...                   46                 1   \n",
       "4              1    G1  170.252  ...                   70                 0   \n",
       "...          ...   ...      ...  ...                  ...               ...   \n",
       "8905           1    G1  264.369  ...                  106                 1   \n",
       "8906           1    G1  444.440  ...                  170                 1   \n",
       "8907           3    G5  150.221  ...                   60                 1   \n",
       "8908           1    G1  454.611  ...                  180                 2   \n",
       "8909           3    G5  308.333  ...                  116                 3   \n",
       "\n",
       "      NumSaturatedRings  NumAliphaticRings  RingCount    TPSA   LabuteASA  \\\n",
       "0                     0                  1          3   29.10   75.183563   \n",
       "1                     0                  0          1   17.07   58.261134   \n",
       "2                     4                  4          6   56.60  183.183268   \n",
       "3                     0                  0          1    0.00   55.836626   \n",
       "4                     1                  1          1   37.30   73.973655   \n",
       "...                 ...                ...        ...     ...         ...   \n",
       "8905                  0                  0          1   41.57  115.300645   \n",
       "8906                  0                  3          4  181.62  182.429237   \n",
       "8907                  0                  0          1   20.23   67.685405   \n",
       "8908                  0                  0          2   63.95  198.569223   \n",
       "8909                  0                  0          3   67.51  132.552025   \n",
       "\n",
       "      BalabanJ      BertzCT                                     Cleaned_SMILES  \n",
       "0     2.582996   511.229248                               O=C1Nc2cccc3cccc1c23  \n",
       "1     3.009782   202.661065                                    O=Cc1ccc(Cl)cc1  \n",
       "2     1.084427   769.899934  c1cc(N(CC2CO2)CC2CO2)ccc1Cc1ccc(N(CC2CO2)CC2CO...  \n",
       "3     3.070761   211.033224                                     C=Cc1cccc(C)c1  \n",
       "4     2.145839   153.917569                                CCC1CCC(CCC(=O)O)C1  \n",
       "...        ...          ...                                                ...  \n",
       "8905  2.394548   374.236894                       CCCCNc1ccc(C(=O)OCCN(C)C)cc1  \n",
       "8906  2.047922  1148.584975  CN(C)[C@@H]1C(O)=C(C(N)=O)C(=O)[C@@]2(O)C(O)=C...  \n",
       "8907  3.092720   251.049732                                Cc1ccc(C(C)C)c(O)c1  \n",
       "8908  2.023333   938.203977  COc1ccc(CCN(C)CCCC(C#N)(c2ccc(OC)c(OC)c2)C(C)C...  \n",
       "8909  2.258072   909.550973              CC(=O)CC(c1ccccc1)c1c(O)c2ccccc2oc1=O  \n",
       "\n",
       "[8910 rows x 27 columns]"
      ]
     },
     "execution_count": 3,
     "metadata": {},
     "output_type": "execute_result"
    }
   ],
   "source": [
    "data = pd.read_csv('~/data/ExternalData/cleaned_solubility_dataset.csv')\n",
    "data"
   ]
  },
  {
   "cell_type": "code",
   "execution_count": 4,
   "metadata": {},
   "outputs": [
    {
     "data": {
      "image/png": "[encoded data removed]",
      "text/plain": [
       "<Figure size 640x480 with 1 Axes>"
      ]
     },
     "metadata": {},
     "output_type": "display_data"
    }
   ],
   "source": [
    "sns.histplot(data, x='Solubility', bins=50);"
   ]
  },
  {
   "cell_type": "code",
   "execution_count": 5,
   "metadata": {},
   "outputs": [
    {
     "name": "stderr",
     "output_type": "stream",
     "text": [
      " 41%|████      | 3657/8910 [00:00<00:01, 3788.51it/s][20:23:01] Explicit valence for atom # 1 N, 4, is greater than permitted\n",
      "[20:23:01] Explicit valence for atom # 1 N, 4, is greater than permitted\n",
      "100%|██████████| 8910/8910 [00:02<00:00, 3602.47it/s]\n"
     ]
    }
   ],
   "source": [
    "with mp.Pool(mp.cpu_count()) as pool:\n",
    "    data['smiles'] = list(tqdm(pool.imap(standardize_smiles, data['SMILES']), total=len(data)))"
   ]
  },
  {
   "cell_type": "code",
   "execution_count": 6,
   "metadata": {},
   "outputs": [
    {
     "name": "stdout",
     "output_type": "stream",
     "text": [
      "Broken: 0.99%\n"
     ]
    }
   ],
   "source": [
    "print(f\"Broken: {data['smiles'].isna().sum() / len(data):.2%}\")"
   ]
  },
  {
   "cell_type": "code",
   "execution_count": 7,
   "metadata": {},
   "outputs": [
    {
     "data": {
      "text/plain": [
       "(8822, 28)"
      ]
     },
     "execution_count": 7,
     "metadata": {},
     "output_type": "execute_result"
    }
   ],
   "source": [
    "data = data[~data['smiles'].isna()].reset_index(drop=True)\n",
    "data.shape"
   ]
  },
  {
   "cell_type": "markdown",
   "metadata": {},
   "source": [
    "## Data splits"
   ]
  },
  {
   "cell_type": "code",
   "execution_count": 8,
   "metadata": {},
   "outputs": [],
   "source": [
    "data = data.rename({'Solubility': 'logS'}, axis=1)\n",
    "data = data[['smiles', 'logS']]"
   ]
  },
  {
   "cell_type": "code",
   "execution_count": 28,
   "metadata": {},
   "outputs": [],
   "source": [
    "train = pd.read_csv('~/data/splits/hi/train.tsv', sep='\\t')\n",
    "train = train[['smiles', 'logS']]\n",
    "valid = pd.read_csv('~/data/splits/hi/valid.tsv', sep='\\t')\n",
    "valid = valid[['smiles', 'logS']]\n",
    "full_internal_train = pd.read_csv('~/data/train.tsv', sep='\\t')\n",
    "full_internal_train = full_internal_train[['smiles', 'logS']]"
   ]
  },
  {
   "cell_type": "code",
   "execution_count": 19,
   "metadata": {},
   "outputs": [
    {
     "name": "stderr",
     "output_type": "stream",
     "text": [
      "100%|██████████| 8822/8822 [00:01<00:00, 5325.31it/s]\n",
      "100%|██████████| 308/308 [00:00<00:00, 7048.75it/s]\n"
     ]
    }
   ],
   "source": [
    "with mp.Pool(mp.cpu_count()) as pool:\n",
    "    data_fps = np.array(list(tqdm(pool.imap(ECFP_from_smiles, data['smiles']), total=len(data))))\n",
    "    valid_fps = np.array(list(tqdm(pool.imap(ECFP_from_smiles, valid['smiles']), total=len(valid))))"
   ]
  },
  {
   "cell_type": "code",
   "execution_count": 20,
   "metadata": {},
   "outputs": [],
   "source": [
    "data2valid_dists = tanimoto_similarity(data_fps, valid_fps)\n",
    "data2valid_dists = data2valid_dists.max(axis=1)"
   ]
  },
  {
   "cell_type": "code",
   "execution_count": 21,
   "metadata": {},
   "outputs": [
    {
     "data": {
      "image/png": "[encoded data removed]",
      "text/plain": [
       "<Figure size 640x480 with 1 Axes>"
      ]
     },
     "metadata": {},
     "output_type": "display_data"
    }
   ],
   "source": [
    "sns.histplot(data2valid_dists, bins=100);\n",
    "plt.title('Tanimoto similarity between valid set and a closest external molecule');"
   ]
  },
  {
   "cell_type": "code",
   "execution_count": 22,
   "metadata": {},
   "outputs": [
    {
     "data": {
      "text/plain": [
       "(10089, 2)"
      ]
     },
     "execution_count": 22,
     "metadata": {},
     "output_type": "execute_result"
    }
   ],
   "source": [
    "train_with_external = pd.concat([train, data]).reset_index(drop=True)\n",
    "train_with_external.shape"
   ]
  },
  {
   "cell_type": "code",
   "execution_count": 23,
   "metadata": {},
   "outputs": [
    {
     "data": {
      "text/html": [
       "<div>\n",
       "<style scoped>\n",
       "    .dataframe tbody tr th:only-of-type {\n",
       "        vertical-align: middle;\n",
       "    }\n",
       "\n",
       "    .dataframe tbody tr th {\n",
       "        vertical-align: top;\n",
       "    }\n",
       "\n",
       "    .dataframe thead th {\n",
       "        text-align: right;\n",
       "    }\n",
       "</style>\n",
       "<table border=\"1\" class=\"dataframe\">\n",
       "  <thead>\n",
       "    <tr style=\"text-align: right;\">\n",
       "      <th></th>\n",
       "      <th>smiles</th>\n",
       "      <th>logS</th>\n",
       "    </tr>\n",
       "  </thead>\n",
       "  <tbody>\n",
       "    <tr>\n",
       "      <th>0</th>\n",
       "      <td>O=C(NCCc1ccc2c(c1)OCO2)C1CCCC1</td>\n",
       "      <td>1.624179</td>\n",
       "    </tr>\n",
       "    <tr>\n",
       "      <th>1</th>\n",
       "      <td>CCc1nc(NC(=O)c2ccccc2F)sc1C</td>\n",
       "      <td>1.361917</td>\n",
       "    </tr>\n",
       "    <tr>\n",
       "      <th>2</th>\n",
       "      <td>O=C(NCc1cccc(F)c1)c1[nH]nnc1-c1ccccc1</td>\n",
       "      <td>1.321184</td>\n",
       "    </tr>\n",
       "    <tr>\n",
       "      <th>3</th>\n",
       "      <td>Cc1ccc(-c2noc3nc(C)cc(C(=O)O)c23)cc1</td>\n",
       "      <td>1.871047</td>\n",
       "    </tr>\n",
       "    <tr>\n",
       "      <th>4</th>\n",
       "      <td>CN1CCC(NC(=O)COc2ccc(C#N)cc2)CC1</td>\n",
       "      <td>1.546296</td>\n",
       "    </tr>\n",
       "    <tr>\n",
       "      <th>...</th>\n",
       "      <td>...</td>\n",
       "      <td>...</td>\n",
       "    </tr>\n",
       "    <tr>\n",
       "      <th>10084</th>\n",
       "      <td>CCCCNc1ccc(C(=O)OCCN(C)C)cc1</td>\n",
       "      <td>-3.010000</td>\n",
       "    </tr>\n",
       "    <tr>\n",
       "      <th>10085</th>\n",
       "      <td>[H][C@]12C[C@@]3([H])[C@H](N(C)C)C(O)=C(C(N)=O...</td>\n",
       "      <td>-2.930000</td>\n",
       "    </tr>\n",
       "    <tr>\n",
       "      <th>10086</th>\n",
       "      <td>Cc1ccc(C(C)C)c(O)c1</td>\n",
       "      <td>-2.190000</td>\n",
       "    </tr>\n",
       "    <tr>\n",
       "      <th>10087</th>\n",
       "      <td>COc1ccc(CCN(C)CCCC(C#N)(c2ccc(OC)c(OC)c2)C(C)C...</td>\n",
       "      <td>-3.980000</td>\n",
       "    </tr>\n",
       "    <tr>\n",
       "      <th>10088</th>\n",
       "      <td>CC(=O)CC(c1ccccc1)c1c(O)c2ccccc2oc1=O</td>\n",
       "      <td>-4.780000</td>\n",
       "    </tr>\n",
       "  </tbody>\n",
       "</table>\n",
       "<p>10089 rows × 2 columns</p>\n",
       "</div>"
      ],
      "text/plain": [
       "                                                  smiles      logS\n",
       "0                         O=C(NCCc1ccc2c(c1)OCO2)C1CCCC1  1.624179\n",
       "1                            CCc1nc(NC(=O)c2ccccc2F)sc1C  1.361917\n",
       "2                  O=C(NCc1cccc(F)c1)c1[nH]nnc1-c1ccccc1  1.321184\n",
       "3                   Cc1ccc(-c2noc3nc(C)cc(C(=O)O)c23)cc1  1.871047\n",
       "4                       CN1CCC(NC(=O)COc2ccc(C#N)cc2)CC1  1.546296\n",
       "...                                                  ...       ...\n",
       "10084                       CCCCNc1ccc(C(=O)OCCN(C)C)cc1 -3.010000\n",
       "10085  [H][C@]12C[C@@]3([H])[C@H](N(C)C)C(O)=C(C(N)=O... -2.930000\n",
       "10086                                Cc1ccc(C(C)C)c(O)c1 -2.190000\n",
       "10087  COc1ccc(CCN(C)CCCC(C#N)(c2ccc(OC)c(OC)c2)C(C)C... -3.980000\n",
       "10088              CC(=O)CC(c1ccccc1)c1c(O)c2ccccc2oc1=O -4.780000\n",
       "\n",
       "[10089 rows x 2 columns]"
      ]
     },
     "execution_count": 23,
     "metadata": {},
     "output_type": "execute_result"
    }
   ],
   "source": [
    "train_with_external"
   ]
  },
  {
   "cell_type": "code",
   "execution_count": 29,
   "metadata": {},
   "outputs": [
    {
     "data": {
      "text/plain": [
       "(10400, 2)"
      ]
     },
     "execution_count": 29,
     "metadata": {},
     "output_type": "execute_result"
    }
   ],
   "source": [
    "all_data = pd.concat([full_internal_train, data]).reset_index(drop=True)\n",
    "all_data.shape"
   ]
  },
  {
   "cell_type": "code",
   "execution_count": 30,
   "metadata": {},
   "outputs": [],
   "source": [
    "train_with_external.to_csv('~/data/splits/hi/train_with_external.tsv', sep='\\t', index=False)\n",
    "all_data.to_csv('~/data/internal_external.tsv', sep='\\t', index=False)"
   ]
  }
 ],
 "metadata": {
  "kernelspec": {
   "display_name": "chem",
   "language": "python",
   "name": "python3"
  },
  "language_info": {
   "codemirror_mode": {
    "name": "ipython",
    "version": 3
   },
   "file_extension": ".py",
   "mimetype": "text/x-python",
   "name": "python",
   "nbconvert_exporter": "python",
   "pygments_lexer": "ipython3",
   "version": "3.11.9"
  }
 },
 "nbformat": 4,
 "nbformat_minor": 2
}
